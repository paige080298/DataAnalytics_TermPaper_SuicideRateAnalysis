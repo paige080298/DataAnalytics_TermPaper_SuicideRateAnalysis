{
 "cells": [
  {
   "cell_type": "code",
   "execution_count": 781,
   "metadata": {},
   "outputs": [],
   "source": [
    "%matplotlib inline\n",
    "import numpy as np              \n",
    "import pandas as pd\n",
    "from sklearn import preprocessing\n",
    "import math\n",
    "%matplotlib inline\n",
    "\n",
    "# To split the dataset into train and test datasets\n",
    "from sklearn.model_selection import train_test_split\n",
    "\n",
    "# To model the Gaussian Navie Bayes classifier\n",
    "from sklearn.naive_bayes import GaussianNB\n",
    "\n",
    "# To calculate the accuracy score of the model\n",
    "from sklearn.metrics import accuracy_score\n",
    "from sklearn.preprocessing import LabelEncoder\n",
    "\n",
    "import matplotlib.pyplot as plt\n",
    "%matplotlib inline\n",
    "\n"
   ]
  },
  {
   "cell_type": "code",
   "execution_count": 782,
   "metadata": {},
   "outputs": [],
   "source": [
    "# function that checks if the variable is a float\n",
    "def isFloat(string):\n",
    "    try:\n",
    "        float(string)\n",
    "        return True\n",
    "    except ValueError:\n",
    "        return False"
   ]
  },
  {
   "cell_type": "code",
   "execution_count": 783,
   "metadata": {},
   "outputs": [
    {
     "data": {
      "text/html": [
       "<div>\n",
       "<style scoped>\n",
       "    .dataframe tbody tr th:only-of-type {\n",
       "        vertical-align: middle;\n",
       "    }\n",
       "\n",
       "    .dataframe tbody tr th {\n",
       "        vertical-align: top;\n",
       "    }\n",
       "\n",
       "    .dataframe thead th {\n",
       "        text-align: right;\n",
       "    }\n",
       "</style>\n",
       "<table border=\"1\" class=\"dataframe\">\n",
       "  <thead>\n",
       "    <tr style=\"text-align: right;\">\n",
       "      <th></th>\n",
       "      <th>country</th>\n",
       "      <th>year</th>\n",
       "      <th>sex</th>\n",
       "      <th>age</th>\n",
       "      <th>suicides_no</th>\n",
       "      <th>population</th>\n",
       "      <th>suicides/100k pop</th>\n",
       "      <th>country-year</th>\n",
       "      <th>HDI for year</th>\n",
       "      <th>gdp_for_year ($)</th>\n",
       "      <th>gdp_per_capita ($)</th>\n",
       "      <th>generation</th>\n",
       "    </tr>\n",
       "  </thead>\n",
       "  <tbody>\n",
       "    <tr>\n",
       "      <td>0</td>\n",
       "      <td>Albania</td>\n",
       "      <td>1987</td>\n",
       "      <td>male</td>\n",
       "      <td>15-24 years</td>\n",
       "      <td>21</td>\n",
       "      <td>312900</td>\n",
       "      <td>6.71</td>\n",
       "      <td>Albania1987</td>\n",
       "      <td>NaN</td>\n",
       "      <td>2,156,624,900</td>\n",
       "      <td>796</td>\n",
       "      <td>Generation X</td>\n",
       "    </tr>\n",
       "    <tr>\n",
       "      <td>1</td>\n",
       "      <td>Albania</td>\n",
       "      <td>1987</td>\n",
       "      <td>male</td>\n",
       "      <td>35-54 years</td>\n",
       "      <td>16</td>\n",
       "      <td>308000</td>\n",
       "      <td>5.19</td>\n",
       "      <td>Albania1987</td>\n",
       "      <td>NaN</td>\n",
       "      <td>2,156,624,900</td>\n",
       "      <td>796</td>\n",
       "      <td>Silent</td>\n",
       "    </tr>\n",
       "    <tr>\n",
       "      <td>2</td>\n",
       "      <td>Albania</td>\n",
       "      <td>1987</td>\n",
       "      <td>female</td>\n",
       "      <td>15-24 years</td>\n",
       "      <td>14</td>\n",
       "      <td>289700</td>\n",
       "      <td>4.83</td>\n",
       "      <td>Albania1987</td>\n",
       "      <td>NaN</td>\n",
       "      <td>2,156,624,900</td>\n",
       "      <td>796</td>\n",
       "      <td>Generation X</td>\n",
       "    </tr>\n",
       "    <tr>\n",
       "      <td>3</td>\n",
       "      <td>Albania</td>\n",
       "      <td>1987</td>\n",
       "      <td>male</td>\n",
       "      <td>75+ years</td>\n",
       "      <td>1</td>\n",
       "      <td>21800</td>\n",
       "      <td>4.59</td>\n",
       "      <td>Albania1987</td>\n",
       "      <td>NaN</td>\n",
       "      <td>2,156,624,900</td>\n",
       "      <td>796</td>\n",
       "      <td>G.I. Generation</td>\n",
       "    </tr>\n",
       "    <tr>\n",
       "      <td>4</td>\n",
       "      <td>Albania</td>\n",
       "      <td>1987</td>\n",
       "      <td>male</td>\n",
       "      <td>25-34 years</td>\n",
       "      <td>9</td>\n",
       "      <td>274300</td>\n",
       "      <td>3.28</td>\n",
       "      <td>Albania1987</td>\n",
       "      <td>NaN</td>\n",
       "      <td>2,156,624,900</td>\n",
       "      <td>796</td>\n",
       "      <td>Boomers</td>\n",
       "    </tr>\n",
       "  </tbody>\n",
       "</table>\n",
       "</div>"
      ],
      "text/plain": [
       "   country  year     sex          age  suicides_no  population  \\\n",
       "0  Albania  1987    male  15-24 years           21      312900   \n",
       "1  Albania  1987    male  35-54 years           16      308000   \n",
       "2  Albania  1987  female  15-24 years           14      289700   \n",
       "3  Albania  1987    male    75+ years            1       21800   \n",
       "4  Albania  1987    male  25-34 years            9      274300   \n",
       "\n",
       "   suicides/100k pop country-year  HDI for year  gdp_for_year ($)   \\\n",
       "0               6.71  Albania1987           NaN      2,156,624,900   \n",
       "1               5.19  Albania1987           NaN      2,156,624,900   \n",
       "2               4.83  Albania1987           NaN      2,156,624,900   \n",
       "3               4.59  Albania1987           NaN      2,156,624,900   \n",
       "4               3.28  Albania1987           NaN      2,156,624,900   \n",
       "\n",
       "   gdp_per_capita ($)       generation  \n",
       "0                 796     Generation X  \n",
       "1                 796           Silent  \n",
       "2                 796     Generation X  \n",
       "3                 796  G.I. Generation  \n",
       "4                 796          Boomers  "
      ]
     },
     "execution_count": 783,
     "metadata": {},
     "output_type": "execute_result"
    }
   ],
   "source": [
    "df = pd.read_csv(\"master.csv\")\n",
    "df.head()"
   ]
  },
  {
   "cell_type": "code",
   "execution_count": 784,
   "metadata": {
    "scrolled": true
   },
   "outputs": [
    {
     "data": {
      "text/html": [
       "<div>\n",
       "<style scoped>\n",
       "    .dataframe tbody tr th:only-of-type {\n",
       "        vertical-align: middle;\n",
       "    }\n",
       "\n",
       "    .dataframe tbody tr th {\n",
       "        vertical-align: top;\n",
       "    }\n",
       "\n",
       "    .dataframe thead th {\n",
       "        text-align: right;\n",
       "    }\n",
       "</style>\n",
       "<table border=\"1\" class=\"dataframe\">\n",
       "  <thead>\n",
       "    <tr style=\"text-align: right;\">\n",
       "      <th></th>\n",
       "      <th>year</th>\n",
       "      <th>suicides_no</th>\n",
       "      <th>population</th>\n",
       "      <th>suicides/100k pop</th>\n",
       "      <th>HDI for year</th>\n",
       "      <th>gdp_per_capita ($)</th>\n",
       "    </tr>\n",
       "  </thead>\n",
       "  <tbody>\n",
       "    <tr>\n",
       "      <td>count</td>\n",
       "      <td>27820.000000</td>\n",
       "      <td>27820.000000</td>\n",
       "      <td>2.782000e+04</td>\n",
       "      <td>27820.000000</td>\n",
       "      <td>8364.000000</td>\n",
       "      <td>27820.000000</td>\n",
       "    </tr>\n",
       "    <tr>\n",
       "      <td>mean</td>\n",
       "      <td>2001.258375</td>\n",
       "      <td>242.574407</td>\n",
       "      <td>1.844794e+06</td>\n",
       "      <td>12.816097</td>\n",
       "      <td>0.776601</td>\n",
       "      <td>16866.464414</td>\n",
       "    </tr>\n",
       "    <tr>\n",
       "      <td>std</td>\n",
       "      <td>8.469055</td>\n",
       "      <td>902.047917</td>\n",
       "      <td>3.911779e+06</td>\n",
       "      <td>18.961511</td>\n",
       "      <td>0.093367</td>\n",
       "      <td>18887.576472</td>\n",
       "    </tr>\n",
       "    <tr>\n",
       "      <td>min</td>\n",
       "      <td>1985.000000</td>\n",
       "      <td>0.000000</td>\n",
       "      <td>2.780000e+02</td>\n",
       "      <td>0.000000</td>\n",
       "      <td>0.483000</td>\n",
       "      <td>251.000000</td>\n",
       "    </tr>\n",
       "    <tr>\n",
       "      <td>25%</td>\n",
       "      <td>1995.000000</td>\n",
       "      <td>3.000000</td>\n",
       "      <td>9.749850e+04</td>\n",
       "      <td>0.920000</td>\n",
       "      <td>0.713000</td>\n",
       "      <td>3447.000000</td>\n",
       "    </tr>\n",
       "    <tr>\n",
       "      <td>50%</td>\n",
       "      <td>2002.000000</td>\n",
       "      <td>25.000000</td>\n",
       "      <td>4.301500e+05</td>\n",
       "      <td>5.990000</td>\n",
       "      <td>0.779000</td>\n",
       "      <td>9372.000000</td>\n",
       "    </tr>\n",
       "    <tr>\n",
       "      <td>75%</td>\n",
       "      <td>2008.000000</td>\n",
       "      <td>131.000000</td>\n",
       "      <td>1.486143e+06</td>\n",
       "      <td>16.620000</td>\n",
       "      <td>0.855000</td>\n",
       "      <td>24874.000000</td>\n",
       "    </tr>\n",
       "    <tr>\n",
       "      <td>max</td>\n",
       "      <td>2016.000000</td>\n",
       "      <td>22338.000000</td>\n",
       "      <td>4.380521e+07</td>\n",
       "      <td>224.970000</td>\n",
       "      <td>0.944000</td>\n",
       "      <td>126352.000000</td>\n",
       "    </tr>\n",
       "  </tbody>\n",
       "</table>\n",
       "</div>"
      ],
      "text/plain": [
       "               year   suicides_no    population  suicides/100k pop  \\\n",
       "count  27820.000000  27820.000000  2.782000e+04       27820.000000   \n",
       "mean    2001.258375    242.574407  1.844794e+06          12.816097   \n",
       "std        8.469055    902.047917  3.911779e+06          18.961511   \n",
       "min     1985.000000      0.000000  2.780000e+02           0.000000   \n",
       "25%     1995.000000      3.000000  9.749850e+04           0.920000   \n",
       "50%     2002.000000     25.000000  4.301500e+05           5.990000   \n",
       "75%     2008.000000    131.000000  1.486143e+06          16.620000   \n",
       "max     2016.000000  22338.000000  4.380521e+07         224.970000   \n",
       "\n",
       "       HDI for year  gdp_per_capita ($)  \n",
       "count   8364.000000        27820.000000  \n",
       "mean       0.776601        16866.464414  \n",
       "std        0.093367        18887.576472  \n",
       "min        0.483000          251.000000  \n",
       "25%        0.713000         3447.000000  \n",
       "50%        0.779000         9372.000000  \n",
       "75%        0.855000        24874.000000  \n",
       "max        0.944000       126352.000000  "
      ]
     },
     "execution_count": 784,
     "metadata": {},
     "output_type": "execute_result"
    }
   ],
   "source": [
    "df.describe()"
   ]
  },
  {
   "cell_type": "markdown",
   "metadata": {},
   "source": [
    "## check for missing values"
   ]
  },
  {
   "cell_type": "code",
   "execution_count": 785,
   "metadata": {
    "scrolled": true
   },
   "outputs": [
    {
     "data": {
      "text/plain": [
       "country                   0\n",
       "year                      0\n",
       "sex                       0\n",
       "age                       0\n",
       "suicides_no               0\n",
       "population                0\n",
       "suicides/100k pop         0\n",
       "country-year              0\n",
       "HDI for year          19456\n",
       " gdp_for_year ($)         0\n",
       "gdp_per_capita ($)        0\n",
       "generation                0\n",
       "dtype: int64"
      ]
     },
     "execution_count": 785,
     "metadata": {},
     "output_type": "execute_result"
    }
   ],
   "source": [
    "# detect values that are NaN in each row\n",
    "df.isnull().sum()"
   ]
  },
  {
   "cell_type": "markdown",
   "metadata": {},
   "source": [
    "there are no missing values\n",
    "\n",
    "\n",
    "since the data for HDI for year is a column completely without data, we choose to drop the whole column"
   ]
  },
  {
   "cell_type": "code",
   "execution_count": 786,
   "metadata": {},
   "outputs": [],
   "source": [
    "df = df.drop(columns=['HDI for year'])"
   ]
  },
  {
   "cell_type": "code",
   "execution_count": 787,
   "metadata": {},
   "outputs": [],
   "source": [
    "# we only want data from 2000 - 2010\n",
    "data = df.loc[(df.year < 2011) & (df.year > 1999 )]"
   ]
  },
  {
   "cell_type": "markdown",
   "metadata": {},
   "source": [
    "## clean data\n",
    "\n",
    "first we check if all categorical data are typed correctly and are the correct amount of categories"
   ]
  },
  {
   "cell_type": "code",
   "execution_count": 788,
   "metadata": {},
   "outputs": [
    {
     "data": {
      "text/plain": [
       "Netherlands               382\n",
       "Austria                   382\n",
       "Mauritius                 382\n",
       "Iceland                   382\n",
       "Puerto Rico               372\n",
       "                         ... \n",
       "Bosnia and Herzegovina     24\n",
       "Macau                      12\n",
       "Cabo Verde                 12\n",
       "Dominica                   12\n",
       "Mongolia                   10\n",
       "Name: country, Length: 101, dtype: int64"
      ]
     },
     "execution_count": 788,
     "metadata": {},
     "output_type": "execute_result"
    }
   ],
   "source": [
    "df[\"country\"].value_counts()"
   ]
  },
  {
   "cell_type": "code",
   "execution_count": 789,
   "metadata": {},
   "outputs": [
    {
     "data": {
      "text/plain": [
       "male      13910\n",
       "female    13910\n",
       "Name: sex, dtype: int64"
      ]
     },
     "execution_count": 789,
     "metadata": {},
     "output_type": "execute_result"
    }
   ],
   "source": [
    "df[\"sex\"].value_counts()"
   ]
  },
  {
   "cell_type": "code",
   "execution_count": 790,
   "metadata": {},
   "outputs": [
    {
     "data": {
      "text/plain": [
       "35-54 years    4642\n",
       "15-24 years    4642\n",
       "25-34 years    4642\n",
       "75+ years      4642\n",
       "55-74 years    4642\n",
       "5-14 years     4610\n",
       "Name: age, dtype: int64"
      ]
     },
     "execution_count": 790,
     "metadata": {},
     "output_type": "execute_result"
    }
   ],
   "source": [
    "df[\"age\"].value_counts()"
   ]
  },
  {
   "cell_type": "code",
   "execution_count": 791,
   "metadata": {},
   "outputs": [
    {
     "data": {
      "text/plain": [
       "Generation X       6408\n",
       "Silent             6364\n",
       "Millenials         5844\n",
       "Boomers            4990\n",
       "G.I. Generation    2744\n",
       "Generation Z       1470\n",
       "Name: generation, dtype: int64"
      ]
     },
     "execution_count": 791,
     "metadata": {},
     "output_type": "execute_result"
    }
   ],
   "source": [
    "df[\"generation\"].value_counts()"
   ]
  },
  {
   "cell_type": "code",
   "execution_count": 792,
   "metadata": {},
   "outputs": [
    {
     "data": {
      "text/plain": [
       "male      5682\n",
       "female    5682\n",
       "Name: sex, dtype: int64"
      ]
     },
     "execution_count": 792,
     "metadata": {},
     "output_type": "execute_result"
    }
   ],
   "source": [
    "data[\"sex\"].value_counts()"
   ]
  },
  {
   "cell_type": "code",
   "execution_count": 793,
   "metadata": {},
   "outputs": [
    {
     "data": {
      "text/plain": [
       "5-14 years     1894\n",
       "25-34 years    1894\n",
       "75+ years      1894\n",
       "35-54 years    1894\n",
       "55-74 years    1894\n",
       "15-24 years    1894\n",
       "Name: age, dtype: int64"
      ]
     },
     "execution_count": 793,
     "metadata": {},
     "output_type": "execute_result"
    }
   ],
   "source": [
    "data[\"age\"].value_counts()"
   ]
  },
  {
   "cell_type": "markdown",
   "metadata": {},
   "source": [
    "next we check if all nummerical (continuous data) are numerical and string data are type string (gdp_for_year ($))"
   ]
  },
  {
   "cell_type": "code",
   "execution_count": 794,
   "metadata": {},
   "outputs": [],
   "source": [
    "for val in df[\"year\"]:\n",
    "    if not str(val).isdigit():\n",
    "        print(val)"
   ]
  },
  {
   "cell_type": "code",
   "execution_count": 795,
   "metadata": {},
   "outputs": [],
   "source": [
    "for val in df[\"suicides_no\"]:\n",
    "    if not str(val).isdigit():\n",
    "        print(val)"
   ]
  },
  {
   "cell_type": "code",
   "execution_count": 796,
   "metadata": {},
   "outputs": [],
   "source": [
    "for val in df[\"population\"]:\n",
    "    if not str(val).isdigit():\n",
    "        print(val)"
   ]
  },
  {
   "cell_type": "code",
   "execution_count": 797,
   "metadata": {},
   "outputs": [],
   "source": [
    "for val in df[\"suicides/100k pop\"]:\n",
    "    if not isFloat(val):\n",
    "        print(val)"
   ]
  },
  {
   "cell_type": "code",
   "execution_count": 798,
   "metadata": {},
   "outputs": [],
   "source": [
    "for val in df[\" gdp_for_year ($) \"]:\n",
    "    res = type(val) == str\n",
    "    if res == False:\n",
    "        print(res)    "
   ]
  },
  {
   "cell_type": "code",
   "execution_count": 799,
   "metadata": {},
   "outputs": [],
   "source": [
    "for val in df[\"gdp_per_capita ($)\"]:\n",
    "    if not str(val).isdigit():\n",
    "        print(val)"
   ]
  },
  {
   "cell_type": "markdown",
   "metadata": {},
   "source": [
    "## Box plot check for outliers\n",
    "\n",
    "although there might seem to be a lot of outliers in the following graphs, but it is due to the majority of the data being 0 so they consider numbers of suicides as outsiders and we should ignore them.\n",
    "\n",
    "from the plot below we could at least confirm that there are no negative values in the dataset"
   ]
  },
  {
   "cell_type": "code",
   "execution_count": 800,
   "metadata": {},
   "outputs": [
    {
     "data": {
      "text/plain": [
       "<matplotlib.axes._subplots.AxesSubplot at 0x1ec307313c8>"
      ]
     },
     "execution_count": 800,
     "metadata": {},
     "output_type": "execute_result"
    },
    {
     "data": {
      "image/png": "[encoded data removed]",
      "text/plain": [
       "<Figure size 432x288 with 1 Axes>"
      ]
     },
     "metadata": {
      "needs_background": "light"
     },
     "output_type": "display_data"
    }
   ],
   "source": [
    "data[\"year\"].plot.box()"
   ]
  },
  {
   "cell_type": "code",
   "execution_count": 801,
   "metadata": {},
   "outputs": [
    {
     "data": {
      "text/plain": [
       "<matplotlib.axes._subplots.AxesSubplot at 0x1ec30dfc588>"
      ]
     },
     "execution_count": 801,
     "metadata": {},
     "output_type": "execute_result"
    },
    {
     "data": {
      "image/png": "[encoded data removed]",
      "text/plain": [
       "<Figure size 432x288 with 1 Axes>"
      ]
     },
     "metadata": {
      "needs_background": "light"
     },
     "output_type": "display_data"
    }
   ],
   "source": [
    "data[\"suicides_no\"].plot.box()"
   ]
  },
  {
   "cell_type": "code",
   "execution_count": 802,
   "metadata": {},
   "outputs": [
    {
     "data": {
      "text/plain": [
       "<matplotlib.axes._subplots.AxesSubplot at 0x1ec30e53408>"
      ]
     },
     "execution_count": 802,
     "metadata": {},
     "output_type": "execute_result"
    },
    {
     "data": {
      "image/png": "[encoded data removed]",
      "text/plain": [
       "<Figure size 432x288 with 1 Axes>"
      ]
     },
     "metadata": {
      "needs_background": "light"
     },
     "output_type": "display_data"
    }
   ],
   "source": [
    "data[\"population\"].plot.box()"
   ]
  },
  {
   "cell_type": "markdown",
   "metadata": {},
   "source": [
    "## Drop One outlier because it significantly affects our result"
   ]
  },
  {
   "cell_type": "code",
   "execution_count": 803,
   "metadata": {},
   "outputs": [
    {
     "data": {
      "text/plain": [
       "<matplotlib.axes._subplots.AxesSubplot at 0x1ec312fffc8>"
      ]
     },
     "execution_count": 803,
     "metadata": {},
     "output_type": "execute_result"
    },
    {
     "data": {
      "image/png": "[encoded data removed]",
      "text/plain": [
       "<Figure size 432x288 with 1 Axes>"
      ]
     },
     "metadata": {
      "needs_background": "light"
     },
     "output_type": "display_data"
    }
   ],
   "source": [
    "data[\"suicides/100k pop\"].plot.box()"
   ]
  },
  {
   "cell_type": "code",
   "execution_count": 804,
   "metadata": {},
   "outputs": [],
   "source": [
    "data = data[data[\"suicides/100k pop\"] != 204.92]"
   ]
  },
  {
   "cell_type": "code",
   "execution_count": 805,
   "metadata": {},
   "outputs": [
    {
     "data": {
      "text/plain": [
       "<matplotlib.axes._subplots.AxesSubplot at 0x1ec31364f08>"
      ]
     },
     "execution_count": 805,
     "metadata": {},
     "output_type": "execute_result"
    },
    {
     "data": {
      "image/png": "[encoded data removed]",
      "text/plain": [
       "<Figure size 432x288 with 1 Axes>"
      ]
     },
     "metadata": {
      "needs_background": "light"
     },
     "output_type": "display_data"
    }
   ],
   "source": [
    "data[\"suicides/100k pop\"].plot.box()"
   ]
  },
  {
   "cell_type": "code",
   "execution_count": 806,
   "metadata": {},
   "outputs": [
    {
     "data": {
      "text/plain": [
       "<matplotlib.axes._subplots.AxesSubplot at 0x1ec313a7248>"
      ]
     },
     "execution_count": 806,
     "metadata": {},
     "output_type": "execute_result"
    },
    {
     "data": {
      "image/png": "[encoded data removed]",
      "text/plain": [
       "<Figure size 432x288 with 1 Axes>"
      ]
     },
     "metadata": {
      "needs_background": "light"
     },
     "output_type": "display_data"
    }
   ],
   "source": [
    "data[\"gdp_per_capita ($)\"].plot.box()"
   ]
  },
  {
   "cell_type": "markdown",
   "metadata": {},
   "source": [
    "## Transform Data\n",
    "we choose to transform the column of population, because the data is positively skewed"
   ]
  },
  {
   "cell_type": "code",
   "execution_count": 807,
   "metadata": {},
   "outputs": [
    {
     "data": {
      "text/plain": [
       "<matplotlib.axes._subplots.AxesSubplot at 0x1ec313fc148>"
      ]
     },
     "execution_count": 807,
     "metadata": {},
     "output_type": "execute_result"
    },
    {
     "data": {
      "image/png": "[encoded data removed]",
      "text/plain": [
       "<Figure size 432x288 with 1 Axes>"
      ]
     },
     "metadata": {
      "needs_background": "light"
     },
     "output_type": "display_data"
    }
   ],
   "source": [
    "data['population'].hist(bins=150)"
   ]
  },
  {
   "cell_type": "code",
   "execution_count": 808,
   "metadata": {},
   "outputs": [],
   "source": [
    "# as the histogram shown above, we could see that the data for charges are positively skewed, and the scale range is incredibly large,\n",
    "# so we should normalize it (using min/max scaling) then perform a data transformation\n",
    "x = data[['population']].values.astype(float)\n",
    "\n",
    "# Create a minimum and maximum processor object\n",
    "min_max_scaler = preprocessing.MinMaxScaler()\n",
    "\n",
    "# Create an object to transform the data to fit minmax processor\n",
    "x_scaled = min_max_scaler.fit_transform(x)\n",
    "\n",
    "# Run the normalizer on the dataframe\n",
    "df_normalized = pd.DataFrame(x_scaled)"
   ]
  },
  {
   "cell_type": "code",
   "execution_count": 809,
   "metadata": {},
   "outputs": [
    {
     "data": {
      "text/plain": [
       "array([[<matplotlib.axes._subplots.AxesSubplot object at 0x000001EC318DDD48>]],\n",
       "      dtype=object)"
      ]
     },
     "execution_count": 809,
     "metadata": {},
     "output_type": "execute_result"
    },
    {
     "data": {
      "image/png": "[encoded data removed]",
      "text/plain": [
       "<Figure size 432x288 with 1 Axes>"
      ]
     },
     "metadata": {
      "needs_background": "light"
     },
     "output_type": "display_data"
    }
   ],
   "source": [
    "df_normalized.hist(bins=150)"
   ]
  },
  {
   "cell_type": "code",
   "execution_count": 810,
   "metadata": {},
   "outputs": [
    {
     "data": {
      "text/plain": [
       "array([[<matplotlib.axes._subplots.AxesSubplot object at 0x000001EC31B15048>]],\n",
       "      dtype=object)"
      ]
     },
     "execution_count": 810,
     "metadata": {},
     "output_type": "execute_result"
    },
    {
     "data": {
      "image/png": "[encoded data removed]",
      "text/plain": [
       "<Figure size 432x288 with 1 Axes>"
      ]
     },
     "metadata": {
      "needs_background": "light"
     },
     "output_type": "display_data"
    }
   ],
   "source": [
    "# we chose to do log transformation here because we do not have negative values in our dataset ,otherwise we could have done square root transformation\n",
    "log_transformed_col = (df_normalized + 1).apply(np.log) # Get the log of the data\n",
    "\n",
    "log_transformed_col.hist(bins=150) # Plot histogram"
   ]
  },
  {
   "cell_type": "code",
   "execution_count": 811,
   "metadata": {},
   "outputs": [],
   "source": [
    "#the data transformation wasn't super effective due to the large skew of the data but it was "
   ]
  },
  {
   "cell_type": "code",
   "execution_count": 812,
   "metadata": {},
   "outputs": [],
   "source": [
    "# transform data\n",
    "# as the histogram shown above, we could see that the data for wind_speed are positively skewed, and the scale range is incredibly large,\n",
    "# so we should normalize it (using min/max scaling) then perform a data transformation\n",
    "x = df[['population']].values.astype(float)\n",
    "\n",
    "# Create a minimum and maximum processor object\n",
    "min_max_scaler = preprocessing.MinMaxScaler()\n",
    "\n",
    "# Create an object to transform the data to fit minmax processor\n",
    "x_scaled = min_max_scaler.fit_transform(x)\n",
    "\n",
    "# Run the normalizer on the dataframe\n",
    "df_normalized = pd.DataFrame(x_scaled)"
   ]
  },
  {
   "cell_type": "code",
   "execution_count": 813,
   "metadata": {},
   "outputs": [
    {
     "data": {
      "text/plain": [
       "array([[<matplotlib.axes._subplots.AxesSubplot object at 0x000001EC31D2EA48>]],\n",
       "      dtype=object)"
      ]
     },
     "execution_count": 813,
     "metadata": {},
     "output_type": "execute_result"
    },
    {
     "data": {
      "image/png": "[encoded data removed]",
      "text/plain": [
       "<Figure size 432x288 with 1 Axes>"
      ]
     },
     "metadata": {
      "needs_background": "light"
     },
     "output_type": "display_data"
    }
   ],
   "source": [
    "df_normalized.hist(bins=150)"
   ]
  },
  {
   "cell_type": "markdown",
   "metadata": {},
   "source": []
  },
  {
   "cell_type": "markdown",
   "metadata": {},
   "source": [
    "## Using groupby('country'), we found missing values according to different countries\n",
    "\n",
    "Therefore we choose to drop out countries that do not have samples that are more than 100\n"
   ]
  },
  {
   "cell_type": "code",
   "execution_count": 814,
   "metadata": {},
   "outputs": [],
   "source": [
    "general = data.groupby('country').count()"
   ]
  },
  {
   "cell_type": "code",
   "execution_count": 815,
   "metadata": {
    "scrolled": false
   },
   "outputs": [
    {
     "data": {
      "text/html": [
       "<div>\n",
       "<style scoped>\n",
       "    .dataframe tbody tr th:only-of-type {\n",
       "        vertical-align: middle;\n",
       "    }\n",
       "\n",
       "    .dataframe tbody tr th {\n",
       "        vertical-align: top;\n",
       "    }\n",
       "\n",
       "    .dataframe thead th {\n",
       "        text-align: right;\n",
       "    }\n",
       "</style>\n",
       "<table border=\"1\" class=\"dataframe\">\n",
       "  <thead>\n",
       "    <tr style=\"text-align: right;\">\n",
       "      <th></th>\n",
       "      <th>country</th>\n",
       "      <th>year</th>\n",
       "      <th>sex</th>\n",
       "      <th>age</th>\n",
       "      <th>suicides_no</th>\n",
       "      <th>population</th>\n",
       "      <th>suicides/100k pop</th>\n",
       "      <th>country-year</th>\n",
       "      <th>gdp_for_year ($)</th>\n",
       "      <th>gdp_per_capita ($)</th>\n",
       "      <th>generation</th>\n",
       "    </tr>\n",
       "  </thead>\n",
       "  <tbody>\n",
       "    <tr>\n",
       "      <td>0</td>\n",
       "      <td>Albania</td>\n",
       "      <td>132</td>\n",
       "      <td>132</td>\n",
       "      <td>132</td>\n",
       "      <td>132</td>\n",
       "      <td>132</td>\n",
       "      <td>132</td>\n",
       "      <td>132</td>\n",
       "      <td>132</td>\n",
       "      <td>132</td>\n",
       "      <td>132</td>\n",
       "    </tr>\n",
       "    <tr>\n",
       "      <td>1</td>\n",
       "      <td>Antigua and Barbuda</td>\n",
       "      <td>120</td>\n",
       "      <td>120</td>\n",
       "      <td>120</td>\n",
       "      <td>120</td>\n",
       "      <td>120</td>\n",
       "      <td>120</td>\n",
       "      <td>120</td>\n",
       "      <td>120</td>\n",
       "      <td>120</td>\n",
       "      <td>120</td>\n",
       "    </tr>\n",
       "    <tr>\n",
       "      <td>2</td>\n",
       "      <td>Argentina</td>\n",
       "      <td>132</td>\n",
       "      <td>132</td>\n",
       "      <td>132</td>\n",
       "      <td>132</td>\n",
       "      <td>132</td>\n",
       "      <td>132</td>\n",
       "      <td>132</td>\n",
       "      <td>132</td>\n",
       "      <td>132</td>\n",
       "      <td>132</td>\n",
       "    </tr>\n",
       "    <tr>\n",
       "      <td>3</td>\n",
       "      <td>Armenia</td>\n",
       "      <td>108</td>\n",
       "      <td>108</td>\n",
       "      <td>108</td>\n",
       "      <td>108</td>\n",
       "      <td>108</td>\n",
       "      <td>108</td>\n",
       "      <td>108</td>\n",
       "      <td>108</td>\n",
       "      <td>108</td>\n",
       "      <td>108</td>\n",
       "    </tr>\n",
       "    <tr>\n",
       "      <td>4</td>\n",
       "      <td>Aruba</td>\n",
       "      <td>132</td>\n",
       "      <td>132</td>\n",
       "      <td>132</td>\n",
       "      <td>132</td>\n",
       "      <td>132</td>\n",
       "      <td>132</td>\n",
       "      <td>132</td>\n",
       "      <td>132</td>\n",
       "      <td>132</td>\n",
       "      <td>132</td>\n",
       "    </tr>\n",
       "    <tr>\n",
       "      <td>...</td>\n",
       "      <td>...</td>\n",
       "      <td>...</td>\n",
       "      <td>...</td>\n",
       "      <td>...</td>\n",
       "      <td>...</td>\n",
       "      <td>...</td>\n",
       "      <td>...</td>\n",
       "      <td>...</td>\n",
       "      <td>...</td>\n",
       "      <td>...</td>\n",
       "      <td>...</td>\n",
       "    </tr>\n",
       "    <tr>\n",
       "      <td>90</td>\n",
       "      <td>United Arab Emirates</td>\n",
       "      <td>72</td>\n",
       "      <td>72</td>\n",
       "      <td>72</td>\n",
       "      <td>72</td>\n",
       "      <td>72</td>\n",
       "      <td>72</td>\n",
       "      <td>72</td>\n",
       "      <td>72</td>\n",
       "      <td>72</td>\n",
       "      <td>72</td>\n",
       "    </tr>\n",
       "    <tr>\n",
       "      <td>91</td>\n",
       "      <td>United Kingdom</td>\n",
       "      <td>132</td>\n",
       "      <td>132</td>\n",
       "      <td>132</td>\n",
       "      <td>132</td>\n",
       "      <td>132</td>\n",
       "      <td>132</td>\n",
       "      <td>132</td>\n",
       "      <td>132</td>\n",
       "      <td>132</td>\n",
       "      <td>132</td>\n",
       "    </tr>\n",
       "    <tr>\n",
       "      <td>92</td>\n",
       "      <td>United States</td>\n",
       "      <td>132</td>\n",
       "      <td>132</td>\n",
       "      <td>132</td>\n",
       "      <td>132</td>\n",
       "      <td>132</td>\n",
       "      <td>132</td>\n",
       "      <td>132</td>\n",
       "      <td>132</td>\n",
       "      <td>132</td>\n",
       "      <td>132</td>\n",
       "    </tr>\n",
       "    <tr>\n",
       "      <td>93</td>\n",
       "      <td>Uruguay</td>\n",
       "      <td>132</td>\n",
       "      <td>132</td>\n",
       "      <td>132</td>\n",
       "      <td>132</td>\n",
       "      <td>132</td>\n",
       "      <td>132</td>\n",
       "      <td>132</td>\n",
       "      <td>132</td>\n",
       "      <td>132</td>\n",
       "      <td>132</td>\n",
       "    </tr>\n",
       "    <tr>\n",
       "      <td>94</td>\n",
       "      <td>Uzbekistan</td>\n",
       "      <td>96</td>\n",
       "      <td>96</td>\n",
       "      <td>96</td>\n",
       "      <td>96</td>\n",
       "      <td>96</td>\n",
       "      <td>96</td>\n",
       "      <td>96</td>\n",
       "      <td>96</td>\n",
       "      <td>96</td>\n",
       "      <td>96</td>\n",
       "    </tr>\n",
       "  </tbody>\n",
       "</table>\n",
       "<p>95 rows × 11 columns</p>\n",
       "</div>"
      ],
      "text/plain": [
       "                 country  year  sex  age  suicides_no  population  \\\n",
       "0                Albania   132  132  132          132         132   \n",
       "1    Antigua and Barbuda   120  120  120          120         120   \n",
       "2              Argentina   132  132  132          132         132   \n",
       "3                Armenia   108  108  108          108         108   \n",
       "4                  Aruba   132  132  132          132         132   \n",
       "..                   ...   ...  ...  ...          ...         ...   \n",
       "90  United Arab Emirates    72   72   72           72          72   \n",
       "91        United Kingdom   132  132  132          132         132   \n",
       "92         United States   132  132  132          132         132   \n",
       "93               Uruguay   132  132  132          132         132   \n",
       "94            Uzbekistan    96   96   96           96          96   \n",
       "\n",
       "    suicides/100k pop  country-year   gdp_for_year ($)   gdp_per_capita ($)  \\\n",
       "0                 132           132                 132                 132   \n",
       "1                 120           120                 120                 120   \n",
       "2                 132           132                 132                 132   \n",
       "3                 108           108                 108                 108   \n",
       "4                 132           132                 132                 132   \n",
       "..                ...           ...                 ...                 ...   \n",
       "90                 72            72                  72                  72   \n",
       "91                132           132                 132                 132   \n",
       "92                132           132                 132                 132   \n",
       "93                132           132                 132                 132   \n",
       "94                 96            96                  96                  96   \n",
       "\n",
       "    generation  \n",
       "0          132  \n",
       "1          120  \n",
       "2          132  \n",
       "3          108  \n",
       "4          132  \n",
       "..         ...  \n",
       "90          72  \n",
       "91         132  \n",
       "92         132  \n",
       "93         132  \n",
       "94          96  \n",
       "\n",
       "[95 rows x 11 columns]"
      ]
     },
     "execution_count": 815,
     "metadata": {},
     "output_type": "execute_result"
    }
   ],
   "source": [
    "general.reset_index()"
   ]
  },
  {
   "cell_type": "code",
   "execution_count": 816,
   "metadata": {},
   "outputs": [],
   "source": [
    "countries_to_drop = general.loc[(general.year < 100)]"
   ]
  },
  {
   "cell_type": "code",
   "execution_count": 817,
   "metadata": {
    "scrolled": false
   },
   "outputs": [
    {
     "data": {
      "text/html": [
       "<div>\n",
       "<style scoped>\n",
       "    .dataframe tbody tr th:only-of-type {\n",
       "        vertical-align: middle;\n",
       "    }\n",
       "\n",
       "    .dataframe tbody tr th {\n",
       "        vertical-align: top;\n",
       "    }\n",
       "\n",
       "    .dataframe thead th {\n",
       "        text-align: right;\n",
       "    }\n",
       "</style>\n",
       "<table border=\"1\" class=\"dataframe\">\n",
       "  <thead>\n",
       "    <tr style=\"text-align: right;\">\n",
       "      <th></th>\n",
       "      <th>year</th>\n",
       "      <th>sex</th>\n",
       "      <th>age</th>\n",
       "      <th>suicides_no</th>\n",
       "      <th>population</th>\n",
       "      <th>suicides/100k pop</th>\n",
       "      <th>country-year</th>\n",
       "      <th>gdp_for_year ($)</th>\n",
       "      <th>gdp_per_capita ($)</th>\n",
       "      <th>generation</th>\n",
       "    </tr>\n",
       "    <tr>\n",
       "      <th>country</th>\n",
       "      <th></th>\n",
       "      <th></th>\n",
       "      <th></th>\n",
       "      <th></th>\n",
       "      <th></th>\n",
       "      <th></th>\n",
       "      <th></th>\n",
       "      <th></th>\n",
       "      <th></th>\n",
       "      <th></th>\n",
       "    </tr>\n",
       "  </thead>\n",
       "  <tbody>\n",
       "    <tr>\n",
       "      <td>Azerbaijan</td>\n",
       "      <td>72</td>\n",
       "      <td>72</td>\n",
       "      <td>72</td>\n",
       "      <td>72</td>\n",
       "      <td>72</td>\n",
       "      <td>72</td>\n",
       "      <td>72</td>\n",
       "      <td>72</td>\n",
       "      <td>72</td>\n",
       "      <td>72</td>\n",
       "    </tr>\n",
       "    <tr>\n",
       "      <td>Belarus</td>\n",
       "      <td>96</td>\n",
       "      <td>96</td>\n",
       "      <td>96</td>\n",
       "      <td>96</td>\n",
       "      <td>96</td>\n",
       "      <td>96</td>\n",
       "      <td>96</td>\n",
       "      <td>96</td>\n",
       "      <td>96</td>\n",
       "      <td>96</td>\n",
       "    </tr>\n",
       "    <tr>\n",
       "      <td>Cyprus</td>\n",
       "      <td>96</td>\n",
       "      <td>96</td>\n",
       "      <td>96</td>\n",
       "      <td>96</td>\n",
       "      <td>96</td>\n",
       "      <td>96</td>\n",
       "      <td>96</td>\n",
       "      <td>96</td>\n",
       "      <td>96</td>\n",
       "      <td>96</td>\n",
       "    </tr>\n",
       "    <tr>\n",
       "      <td>Georgia</td>\n",
       "      <td>96</td>\n",
       "      <td>96</td>\n",
       "      <td>96</td>\n",
       "      <td>96</td>\n",
       "      <td>96</td>\n",
       "      <td>96</td>\n",
       "      <td>96</td>\n",
       "      <td>96</td>\n",
       "      <td>96</td>\n",
       "      <td>96</td>\n",
       "    </tr>\n",
       "    <tr>\n",
       "      <td>Kiribati</td>\n",
       "      <td>24</td>\n",
       "      <td>24</td>\n",
       "      <td>24</td>\n",
       "      <td>24</td>\n",
       "      <td>24</td>\n",
       "      <td>24</td>\n",
       "      <td>24</td>\n",
       "      <td>24</td>\n",
       "      <td>24</td>\n",
       "      <td>24</td>\n",
       "    </tr>\n",
       "    <tr>\n",
       "      <td>Nicaragua</td>\n",
       "      <td>12</td>\n",
       "      <td>12</td>\n",
       "      <td>12</td>\n",
       "      <td>12</td>\n",
       "      <td>12</td>\n",
       "      <td>12</td>\n",
       "      <td>12</td>\n",
       "      <td>12</td>\n",
       "      <td>12</td>\n",
       "      <td>12</td>\n",
       "    </tr>\n",
       "    <tr>\n",
       "      <td>Oman</td>\n",
       "      <td>24</td>\n",
       "      <td>24</td>\n",
       "      <td>24</td>\n",
       "      <td>24</td>\n",
       "      <td>24</td>\n",
       "      <td>24</td>\n",
       "      <td>24</td>\n",
       "      <td>24</td>\n",
       "      <td>24</td>\n",
       "      <td>24</td>\n",
       "    </tr>\n",
       "    <tr>\n",
       "      <td>Portugal</td>\n",
       "      <td>96</td>\n",
       "      <td>96</td>\n",
       "      <td>96</td>\n",
       "      <td>96</td>\n",
       "      <td>96</td>\n",
       "      <td>96</td>\n",
       "      <td>96</td>\n",
       "      <td>96</td>\n",
       "      <td>96</td>\n",
       "      <td>96</td>\n",
       "    </tr>\n",
       "    <tr>\n",
       "      <td>Qatar</td>\n",
       "      <td>96</td>\n",
       "      <td>96</td>\n",
       "      <td>96</td>\n",
       "      <td>96</td>\n",
       "      <td>96</td>\n",
       "      <td>96</td>\n",
       "      <td>96</td>\n",
       "      <td>96</td>\n",
       "      <td>96</td>\n",
       "      <td>96</td>\n",
       "    </tr>\n",
       "    <tr>\n",
       "      <td>San Marino</td>\n",
       "      <td>24</td>\n",
       "      <td>24</td>\n",
       "      <td>24</td>\n",
       "      <td>24</td>\n",
       "      <td>24</td>\n",
       "      <td>24</td>\n",
       "      <td>24</td>\n",
       "      <td>24</td>\n",
       "      <td>24</td>\n",
       "      <td>24</td>\n",
       "    </tr>\n",
       "    <tr>\n",
       "      <td>Sri Lanka</td>\n",
       "      <td>60</td>\n",
       "      <td>60</td>\n",
       "      <td>60</td>\n",
       "      <td>60</td>\n",
       "      <td>60</td>\n",
       "      <td>60</td>\n",
       "      <td>60</td>\n",
       "      <td>60</td>\n",
       "      <td>60</td>\n",
       "      <td>60</td>\n",
       "    </tr>\n",
       "    <tr>\n",
       "      <td>Turkey</td>\n",
       "      <td>24</td>\n",
       "      <td>24</td>\n",
       "      <td>24</td>\n",
       "      <td>24</td>\n",
       "      <td>24</td>\n",
       "      <td>24</td>\n",
       "      <td>24</td>\n",
       "      <td>24</td>\n",
       "      <td>24</td>\n",
       "      <td>24</td>\n",
       "    </tr>\n",
       "    <tr>\n",
       "      <td>United Arab Emirates</td>\n",
       "      <td>72</td>\n",
       "      <td>72</td>\n",
       "      <td>72</td>\n",
       "      <td>72</td>\n",
       "      <td>72</td>\n",
       "      <td>72</td>\n",
       "      <td>72</td>\n",
       "      <td>72</td>\n",
       "      <td>72</td>\n",
       "      <td>72</td>\n",
       "    </tr>\n",
       "    <tr>\n",
       "      <td>Uzbekistan</td>\n",
       "      <td>96</td>\n",
       "      <td>96</td>\n",
       "      <td>96</td>\n",
       "      <td>96</td>\n",
       "      <td>96</td>\n",
       "      <td>96</td>\n",
       "      <td>96</td>\n",
       "      <td>96</td>\n",
       "      <td>96</td>\n",
       "      <td>96</td>\n",
       "    </tr>\n",
       "  </tbody>\n",
       "</table>\n",
       "</div>"
      ],
      "text/plain": [
       "                      year  sex  age  suicides_no  population  \\\n",
       "country                                                         \n",
       "Azerbaijan              72   72   72           72          72   \n",
       "Belarus                 96   96   96           96          96   \n",
       "Cyprus                  96   96   96           96          96   \n",
       "Georgia                 96   96   96           96          96   \n",
       "Kiribati                24   24   24           24          24   \n",
       "Nicaragua               12   12   12           12          12   \n",
       "Oman                    24   24   24           24          24   \n",
       "Portugal                96   96   96           96          96   \n",
       "Qatar                   96   96   96           96          96   \n",
       "San Marino              24   24   24           24          24   \n",
       "Sri Lanka               60   60   60           60          60   \n",
       "Turkey                  24   24   24           24          24   \n",
       "United Arab Emirates    72   72   72           72          72   \n",
       "Uzbekistan              96   96   96           96          96   \n",
       "\n",
       "                      suicides/100k pop  country-year   gdp_for_year ($)   \\\n",
       "country                                                                     \n",
       "Azerbaijan                           72            72                  72   \n",
       "Belarus                              96            96                  96   \n",
       "Cyprus                               96            96                  96   \n",
       "Georgia                              96            96                  96   \n",
       "Kiribati                             24            24                  24   \n",
       "Nicaragua                            12            12                  12   \n",
       "Oman                                 24            24                  24   \n",
       "Portugal                             96            96                  96   \n",
       "Qatar                                96            96                  96   \n",
       "San Marino                           24            24                  24   \n",
       "Sri Lanka                            60            60                  60   \n",
       "Turkey                               24            24                  24   \n",
       "United Arab Emirates                 72            72                  72   \n",
       "Uzbekistan                           96            96                  96   \n",
       "\n",
       "                      gdp_per_capita ($)  generation  \n",
       "country                                               \n",
       "Azerbaijan                            72          72  \n",
       "Belarus                               96          96  \n",
       "Cyprus                                96          96  \n",
       "Georgia                               96          96  \n",
       "Kiribati                              24          24  \n",
       "Nicaragua                             12          12  \n",
       "Oman                                  24          24  \n",
       "Portugal                              96          96  \n",
       "Qatar                                 96          96  \n",
       "San Marino                            24          24  \n",
       "Sri Lanka                             60          60  \n",
       "Turkey                                24          24  \n",
       "United Arab Emirates                  72          72  \n",
       "Uzbekistan                            96          96  "
      ]
     },
     "execution_count": 817,
     "metadata": {},
     "output_type": "execute_result"
    }
   ],
   "source": [
    "countries_to_drop"
   ]
  },
  {
   "cell_type": "code",
   "execution_count": 818,
   "metadata": {
    "scrolled": true
   },
   "outputs": [],
   "source": [
    "data = data[data.country != 'Azerbaijan']\n",
    "data = data[data.country != 'Belarus']\n",
    "data = data[data.country != 'Cyprus']\n",
    "data = data[data.country != 'Georgia']\n",
    "data = data[data.country != 'Kiribati']\n",
    "data = data[data.country != 'Nicaragua']\n",
    "data = data[data.country != 'Oman']\n",
    "data = data[data.country != 'Qatar']\n",
    "data = data[data.country != 'San Marino']\n",
    "data = data[data.country != 'Sri Lanka']\n",
    "data = data[data.country != 'Turkey']\n",
    "data = data[data.country != 'United Arab Emirates']\n",
    "data = data[data.country != 'Uzbekistan']"
   ]
  },
  {
   "cell_type": "code",
   "execution_count": 819,
   "metadata": {},
   "outputs": [
    {
     "data": {
      "text/plain": [
       "Denmark        132\n",
       "Mexico         132\n",
       "Germany        132\n",
       "Panama         132\n",
       "Spain          132\n",
       "              ... \n",
       "Philippines    108\n",
       "Maldives       108\n",
       "Armenia        108\n",
       "Fiji           108\n",
       "Portugal        96\n",
       "Name: country, Length: 82, dtype: int64"
      ]
     },
     "execution_count": 819,
     "metadata": {},
     "output_type": "execute_result"
    }
   ],
   "source": [
    "data.country.value_counts()"
   ]
  },
  {
   "cell_type": "markdown",
   "metadata": {},
   "source": [
    "## Other groupby() data visualizations"
   ]
  },
  {
   "cell_type": "code",
   "execution_count": 820,
   "metadata": {},
   "outputs": [],
   "source": [
    "gender = data.groupby(['country', 'sex']).sum()"
   ]
  },
  {
   "cell_type": "code",
   "execution_count": 821,
   "metadata": {},
   "outputs": [],
   "source": [
    "gender = gender.drop(columns=['year'])"
   ]
  },
  {
   "cell_type": "code",
   "execution_count": 822,
   "metadata": {},
   "outputs": [
    {
     "data": {
      "text/html": [
       "<div>\n",
       "<style scoped>\n",
       "    .dataframe tbody tr th:only-of-type {\n",
       "        vertical-align: middle;\n",
       "    }\n",
       "\n",
       "    .dataframe tbody tr th {\n",
       "        vertical-align: top;\n",
       "    }\n",
       "\n",
       "    .dataframe thead th {\n",
       "        text-align: right;\n",
       "    }\n",
       "</style>\n",
       "<table border=\"1\" class=\"dataframe\">\n",
       "  <thead>\n",
       "    <tr style=\"text-align: right;\">\n",
       "      <th></th>\n",
       "      <th></th>\n",
       "      <th>suicides_no</th>\n",
       "      <th>population</th>\n",
       "      <th>suicides/100k pop</th>\n",
       "      <th>gdp_per_capita ($)</th>\n",
       "    </tr>\n",
       "    <tr>\n",
       "      <th>country</th>\n",
       "      <th>sex</th>\n",
       "      <th></th>\n",
       "      <th></th>\n",
       "      <th></th>\n",
       "      <th></th>\n",
       "    </tr>\n",
       "  </thead>\n",
       "  <tbody>\n",
       "    <tr>\n",
       "      <td rowspan=\"2\" valign=\"top\">Albania</td>\n",
       "      <td>female</td>\n",
       "      <td>344</td>\n",
       "      <td>15402799</td>\n",
       "      <td>163.41</td>\n",
       "      <td>194010</td>\n",
       "    </tr>\n",
       "    <tr>\n",
       "      <td>male</td>\n",
       "      <td>612</td>\n",
       "      <td>15303268</td>\n",
       "      <td>282.97</td>\n",
       "      <td>194010</td>\n",
       "    </tr>\n",
       "    <tr>\n",
       "      <td rowspan=\"2\" valign=\"top\">Antigua and Barbuda</td>\n",
       "      <td>female</td>\n",
       "      <td>0</td>\n",
       "      <td>422197</td>\n",
       "      <td>0.00</td>\n",
       "      <td>765072</td>\n",
       "    </tr>\n",
       "    <tr>\n",
       "      <td>male</td>\n",
       "      <td>8</td>\n",
       "      <td>381185</td>\n",
       "      <td>131.28</td>\n",
       "      <td>765072</td>\n",
       "    </tr>\n",
       "    <tr>\n",
       "      <td>Argentina</td>\n",
       "      <td>female</td>\n",
       "      <td>6904</td>\n",
       "      <td>200606407</td>\n",
       "      <td>233.46</td>\n",
       "      <td>465678</td>\n",
       "    </tr>\n",
       "    <tr>\n",
       "      <td>...</td>\n",
       "      <td>...</td>\n",
       "      <td>...</td>\n",
       "      <td>...</td>\n",
       "      <td>...</td>\n",
       "      <td>...</td>\n",
       "    </tr>\n",
       "    <tr>\n",
       "      <td>United Kingdom</td>\n",
       "      <td>male</td>\n",
       "      <td>34989</td>\n",
       "      <td>305820264</td>\n",
       "      <td>692.08</td>\n",
       "      <td>2682216</td>\n",
       "    </tr>\n",
       "    <tr>\n",
       "      <td rowspan=\"2\" valign=\"top\">United States</td>\n",
       "      <td>female</td>\n",
       "      <td>75622</td>\n",
       "      <td>1543261464</td>\n",
       "      <td>280.32</td>\n",
       "      <td>3064620</td>\n",
       "    </tr>\n",
       "    <tr>\n",
       "      <td>male</td>\n",
       "      <td>291687</td>\n",
       "      <td>1488900905</td>\n",
       "      <td>1364.29</td>\n",
       "      <td>3064620</td>\n",
       "    </tr>\n",
       "    <tr>\n",
       "      <td rowspan=\"2\" valign=\"top\">Uruguay</td>\n",
       "      <td>female</td>\n",
       "      <td>1302</td>\n",
       "      <td>17603261</td>\n",
       "      <td>478.66</td>\n",
       "      <td>477480</td>\n",
       "    </tr>\n",
       "    <tr>\n",
       "      <td>male</td>\n",
       "      <td>4665</td>\n",
       "      <td>16283433</td>\n",
       "      <td>2366.60</td>\n",
       "      <td>477480</td>\n",
       "    </tr>\n",
       "  </tbody>\n",
       "</table>\n",
       "<p>164 rows × 4 columns</p>\n",
       "</div>"
      ],
      "text/plain": [
       "                            suicides_no  population  suicides/100k pop  \\\n",
       "country             sex                                                  \n",
       "Albania             female          344    15402799             163.41   \n",
       "                    male            612    15303268             282.97   \n",
       "Antigua and Barbuda female            0      422197               0.00   \n",
       "                    male              8      381185             131.28   \n",
       "Argentina           female         6904   200606407             233.46   \n",
       "...                                 ...         ...                ...   \n",
       "United Kingdom      male          34989   305820264             692.08   \n",
       "United States       female        75622  1543261464             280.32   \n",
       "                    male         291687  1488900905            1364.29   \n",
       "Uruguay             female         1302    17603261             478.66   \n",
       "                    male           4665    16283433            2366.60   \n",
       "\n",
       "                            gdp_per_capita ($)  \n",
       "country             sex                         \n",
       "Albania             female              194010  \n",
       "                    male                194010  \n",
       "Antigua and Barbuda female              765072  \n",
       "                    male                765072  \n",
       "Argentina           female              465678  \n",
       "...                                        ...  \n",
       "United Kingdom      male               2682216  \n",
       "United States       female             3064620  \n",
       "                    male               3064620  \n",
       "Uruguay             female              477480  \n",
       "                    male                477480  \n",
       "\n",
       "[164 rows x 4 columns]"
      ]
     },
     "execution_count": 822,
     "metadata": {},
     "output_type": "execute_result"
    }
   ],
   "source": [
    "gender"
   ]
  },
  {
   "cell_type": "code",
   "execution_count": 823,
   "metadata": {},
   "outputs": [],
   "source": [
    "age = data.groupby(['country', 'sex', 'age']).sum()"
   ]
  },
  {
   "cell_type": "code",
   "execution_count": 824,
   "metadata": {},
   "outputs": [],
   "source": [
    "age = age.drop(columns=['year'])"
   ]
  },
  {
   "cell_type": "code",
   "execution_count": 825,
   "metadata": {
    "scrolled": false
   },
   "outputs": [
    {
     "data": {
      "text/html": [
       "<div>\n",
       "<style scoped>\n",
       "    .dataframe tbody tr th:only-of-type {\n",
       "        vertical-align: middle;\n",
       "    }\n",
       "\n",
       "    .dataframe tbody tr th {\n",
       "        vertical-align: top;\n",
       "    }\n",
       "\n",
       "    .dataframe thead th {\n",
       "        text-align: right;\n",
       "    }\n",
       "</style>\n",
       "<table border=\"1\" class=\"dataframe\">\n",
       "  <thead>\n",
       "    <tr style=\"text-align: right;\">\n",
       "      <th></th>\n",
       "      <th></th>\n",
       "      <th></th>\n",
       "      <th>suicides_no</th>\n",
       "      <th>population</th>\n",
       "      <th>suicides/100k pop</th>\n",
       "      <th>gdp_per_capita ($)</th>\n",
       "    </tr>\n",
       "    <tr>\n",
       "      <th>country</th>\n",
       "      <th>sex</th>\n",
       "      <th>age</th>\n",
       "      <th></th>\n",
       "      <th></th>\n",
       "      <th></th>\n",
       "      <th></th>\n",
       "    </tr>\n",
       "  </thead>\n",
       "  <tbody>\n",
       "    <tr>\n",
       "      <td rowspan=\"5\" valign=\"top\">Albania</td>\n",
       "      <td rowspan=\"5\" valign=\"top\">female</td>\n",
       "      <td>15-24 years</td>\n",
       "      <td>102</td>\n",
       "      <td>3043003</td>\n",
       "      <td>36.58</td>\n",
       "      <td>32335</td>\n",
       "    </tr>\n",
       "    <tr>\n",
       "      <td>25-34 years</td>\n",
       "      <td>57</td>\n",
       "      <td>2247305</td>\n",
       "      <td>27.70</td>\n",
       "      <td>32335</td>\n",
       "    </tr>\n",
       "    <tr>\n",
       "      <td>35-54 years</td>\n",
       "      <td>107</td>\n",
       "      <td>4200481</td>\n",
       "      <td>27.93</td>\n",
       "      <td>32335</td>\n",
       "    </tr>\n",
       "    <tr>\n",
       "      <td>5-14 years</td>\n",
       "      <td>9</td>\n",
       "      <td>3029202</td>\n",
       "      <td>3.33</td>\n",
       "      <td>32335</td>\n",
       "    </tr>\n",
       "    <tr>\n",
       "      <td>55-74 years</td>\n",
       "      <td>45</td>\n",
       "      <td>2298317</td>\n",
       "      <td>21.38</td>\n",
       "      <td>32335</td>\n",
       "    </tr>\n",
       "    <tr>\n",
       "      <td>...</td>\n",
       "      <td>...</td>\n",
       "      <td>...</td>\n",
       "      <td>...</td>\n",
       "      <td>...</td>\n",
       "      <td>...</td>\n",
       "      <td>...</td>\n",
       "    </tr>\n",
       "    <tr>\n",
       "      <td rowspan=\"5\" valign=\"top\">Uruguay</td>\n",
       "      <td rowspan=\"5\" valign=\"top\">male</td>\n",
       "      <td>25-34 years</td>\n",
       "      <td>730</td>\n",
       "      <td>2647501</td>\n",
       "      <td>303.35</td>\n",
       "      <td>79580</td>\n",
       "    </tr>\n",
       "    <tr>\n",
       "      <td>35-54 years</td>\n",
       "      <td>1288</td>\n",
       "      <td>4280727</td>\n",
       "      <td>331.59</td>\n",
       "      <td>79580</td>\n",
       "    </tr>\n",
       "    <tr>\n",
       "      <td>5-14 years</td>\n",
       "      <td>25</td>\n",
       "      <td>2989628</td>\n",
       "      <td>9.19</td>\n",
       "      <td>79580</td>\n",
       "    </tr>\n",
       "    <tr>\n",
       "      <td>55-74 years</td>\n",
       "      <td>1287</td>\n",
       "      <td>2741224</td>\n",
       "      <td>516.95</td>\n",
       "      <td>79580</td>\n",
       "    </tr>\n",
       "    <tr>\n",
       "      <td>75+ years</td>\n",
       "      <td>676</td>\n",
       "      <td>785750</td>\n",
       "      <td>950.24</td>\n",
       "      <td>79580</td>\n",
       "    </tr>\n",
       "  </tbody>\n",
       "</table>\n",
       "<p>984 rows × 4 columns</p>\n",
       "</div>"
      ],
      "text/plain": [
       "                            suicides_no  population  suicides/100k pop  \\\n",
       "country sex    age                                                       \n",
       "Albania female 15-24 years          102     3043003              36.58   \n",
       "               25-34 years           57     2247305              27.70   \n",
       "               35-54 years          107     4200481              27.93   \n",
       "               5-14 years             9     3029202               3.33   \n",
       "               55-74 years           45     2298317              21.38   \n",
       "...                                 ...         ...                ...   \n",
       "Uruguay male   25-34 years          730     2647501             303.35   \n",
       "               35-54 years         1288     4280727             331.59   \n",
       "               5-14 years            25     2989628               9.19   \n",
       "               55-74 years         1287     2741224             516.95   \n",
       "               75+ years            676      785750             950.24   \n",
       "\n",
       "                            gdp_per_capita ($)  \n",
       "country sex    age                              \n",
       "Albania female 15-24 years               32335  \n",
       "               25-34 years               32335  \n",
       "               35-54 years               32335  \n",
       "               5-14 years                32335  \n",
       "               55-74 years               32335  \n",
       "...                                        ...  \n",
       "Uruguay male   25-34 years               79580  \n",
       "               35-54 years               79580  \n",
       "               5-14 years                79580  \n",
       "               55-74 years               79580  \n",
       "               75+ years                 79580  \n",
       "\n",
       "[984 rows x 4 columns]"
      ]
     },
     "execution_count": 825,
     "metadata": {},
     "output_type": "execute_result"
    }
   ],
   "source": [
    "age"
   ]
  },
  {
   "cell_type": "markdown",
   "metadata": {},
   "source": [
    "## Brief Data Visualization"
   ]
  },
  {
   "cell_type": "code",
   "execution_count": 826,
   "metadata": {},
   "outputs": [
    {
     "data": {
      "text/plain": [
       "<matplotlib.axes._subplots.AxesSubplot at 0x1ec31ef17c8>"
      ]
     },
     "execution_count": 826,
     "metadata": {},
     "output_type": "execute_result"
    },
    {
     "data": {
      "image/png": "[encoded data removed]",
      "text/plain": [
       "<Figure size 432x288 with 2 Axes>"
      ]
     },
     "metadata": {
      "needs_background": "light"
     },
     "output_type": "display_data"
    }
   ],
   "source": [
    "data.plot(kind='scatter', x='gdp_per_capita ($)', y='suicides/100k pop', c='suicides/100k pop',s=100,title=\"GDP vs. suicide\", )\n"
   ]
  },
  {
   "cell_type": "code",
   "execution_count": 827,
   "metadata": {
    "scrolled": true
   },
   "outputs": [
    {
     "data": {
      "text/plain": [
       "<BarContainer object of 10571 artists>"
      ]
     },
     "execution_count": 827,
     "metadata": {},
     "output_type": "execute_result"
    },
    {
     "data": {
      "image/png": "[encoded data removed]",
      "text/plain": [
       "<Figure size 432x288 with 1 Axes>"
      ]
     },
     "metadata": {
      "needs_background": "light"
     },
     "output_type": "display_data"
    }
   ],
   "source": [
    "import matplotlib.pyplot as plt\n",
    "fig = plt.figure()\n",
    "ax = fig.add_axes([0,0,1,1])\n",
    "ax.bar(data['age'], data['suicides/100k pop'])"
   ]
  },
  {
   "cell_type": "code",
   "execution_count": 828,
   "metadata": {},
   "outputs": [
    {
     "data": {
      "text/html": [
       "<div>\n",
       "<style scoped>\n",
       "    .dataframe tbody tr th:only-of-type {\n",
       "        vertical-align: middle;\n",
       "    }\n",
       "\n",
       "    .dataframe tbody tr th {\n",
       "        vertical-align: top;\n",
       "    }\n",
       "\n",
       "    .dataframe thead th {\n",
       "        text-align: right;\n",
       "    }\n",
       "</style>\n",
       "<table border=\"1\" class=\"dataframe\">\n",
       "  <thead>\n",
       "    <tr style=\"text-align: right;\">\n",
       "      <th></th>\n",
       "      <th>country</th>\n",
       "      <th>suicides/100k pop</th>\n",
       "    </tr>\n",
       "  </thead>\n",
       "  <tbody>\n",
       "    <tr>\n",
       "      <td>0</td>\n",
       "      <td>Lithuania</td>\n",
       "      <td>40.043939</td>\n",
       "    </tr>\n",
       "    <tr>\n",
       "      <td>1</td>\n",
       "      <td>Republic of Korea</td>\n",
       "      <td>35.325985</td>\n",
       "    </tr>\n",
       "    <tr>\n",
       "      <td>2</td>\n",
       "      <td>Russian Federation</td>\n",
       "      <td>35.315455</td>\n",
       "    </tr>\n",
       "    <tr>\n",
       "      <td>3</td>\n",
       "      <td>Kazakhstan</td>\n",
       "      <td>31.863485</td>\n",
       "    </tr>\n",
       "    <tr>\n",
       "      <td>4</td>\n",
       "      <td>Guyana</td>\n",
       "      <td>30.300083</td>\n",
       "    </tr>\n",
       "    <tr>\n",
       "      <td>5</td>\n",
       "      <td>Hungary</td>\n",
       "      <td>29.950758</td>\n",
       "    </tr>\n",
       "    <tr>\n",
       "      <td>6</td>\n",
       "      <td>Latvia</td>\n",
       "      <td>27.893939</td>\n",
       "    </tr>\n",
       "    <tr>\n",
       "      <td>7</td>\n",
       "      <td>Slovenia</td>\n",
       "      <td>27.507424</td>\n",
       "    </tr>\n",
       "    <tr>\n",
       "      <td>8</td>\n",
       "      <td>Ukraine</td>\n",
       "      <td>25.692576</td>\n",
       "    </tr>\n",
       "    <tr>\n",
       "      <td>9</td>\n",
       "      <td>Estonia</td>\n",
       "      <td>24.384394</td>\n",
       "    </tr>\n",
       "  </tbody>\n",
       "</table>\n",
       "</div>"
      ],
      "text/plain": [
       "              country  suicides/100k pop\n",
       "0           Lithuania          40.043939\n",
       "1   Republic of Korea          35.325985\n",
       "2  Russian Federation          35.315455\n",
       "3          Kazakhstan          31.863485\n",
       "4              Guyana          30.300083\n",
       "5             Hungary          29.950758\n",
       "6              Latvia          27.893939\n",
       "7            Slovenia          27.507424\n",
       "8             Ukraine          25.692576\n",
       "9             Estonia          24.384394"
      ]
     },
     "execution_count": 828,
     "metadata": {},
     "output_type": "execute_result"
    },
    {
     "data": {
      "image/png": "[encoded data removed]",
      "text/plain": [
       "<Figure size 576x1440 with 1 Axes>"
      ]
     },
     "metadata": {
      "needs_background": "light"
     },
     "output_type": "display_data"
    }
   ],
   "source": [
    "suicideRate = data['suicides/100k pop'].groupby(data['country']).mean().sort_values(ascending=False).reset_index()\n",
    "\n",
    "plt.figure(figsize=(8,20))\n",
    "plt.title('Suicide Rates per Country (mean={:.2f})'.format(suicideRate['suicides/100k pop'].mean()), fontsize=14)\n",
    "plt.axvline(x=suicideRate['suicides/100k pop'].mean(),color='gray',ls='--')\n",
    "sns.barplot(data=suicideRate, y='country',x='suicides/100k pop')\n",
    "\n",
    "suicideRate.head(10)"
   ]
  },
  {
   "cell_type": "code",
   "execution_count": 829,
   "metadata": {},
   "outputs": [
    {
     "data": {
      "image/png": "[encoded data removed]",
      "text/plain": [
       "<Figure size 472x360 with 1 Axes>"
      ]
     },
     "metadata": {
      "needs_background": "light"
     },
     "output_type": "display_data"
    }
   ],
   "source": [
    "# Plot sepal with as a function of sepal_length across days\n",
    "g = sns.lmplot(x=\"year\", y=\"suicides_no\", hue=\"generation\",\n",
    "               truncate=True, height=5, data=data)\n",
    "\n",
    "# Use more informative axis labels than are provided by default\n",
    "g.set_axis_labels(\"Year\", \"Suicides No\")\n",
    "plt.show()"
   ]
  },
  {
   "cell_type": "markdown",
   "metadata": {},
   "source": [
    "## Examine correlations\n"
   ]
  },
  {
   "cell_type": "code",
   "execution_count": 830,
   "metadata": {},
   "outputs": [
    {
     "data": {
      "text/html": [
       "<div>\n",
       "<style scoped>\n",
       "    .dataframe tbody tr th:only-of-type {\n",
       "        vertical-align: middle;\n",
       "    }\n",
       "\n",
       "    .dataframe tbody tr th {\n",
       "        vertical-align: top;\n",
       "    }\n",
       "\n",
       "    .dataframe thead th {\n",
       "        text-align: right;\n",
       "    }\n",
       "</style>\n",
       "<table border=\"1\" class=\"dataframe\">\n",
       "  <thead>\n",
       "    <tr style=\"text-align: right;\">\n",
       "      <th></th>\n",
       "      <th>year</th>\n",
       "      <th>suicides_no</th>\n",
       "      <th>population</th>\n",
       "      <th>suicides/100k pop</th>\n",
       "      <th>gdp_per_capita ($)</th>\n",
       "    </tr>\n",
       "  </thead>\n",
       "  <tbody>\n",
       "    <tr>\n",
       "      <td>year</td>\n",
       "      <td>1.000000</td>\n",
       "      <td>-0.004873</td>\n",
       "      <td>0.013322</td>\n",
       "      <td>-0.039254</td>\n",
       "      <td>0.227915</td>\n",
       "    </tr>\n",
       "    <tr>\n",
       "      <td>suicides_no</td>\n",
       "      <td>-0.004873</td>\n",
       "      <td>1.000000</td>\n",
       "      <td>0.616352</td>\n",
       "      <td>0.307318</td>\n",
       "      <td>0.057922</td>\n",
       "    </tr>\n",
       "    <tr>\n",
       "      <td>population</td>\n",
       "      <td>0.013322</td>\n",
       "      <td>0.616352</td>\n",
       "      <td>1.000000</td>\n",
       "      <td>0.014041</td>\n",
       "      <td>0.082302</td>\n",
       "    </tr>\n",
       "    <tr>\n",
       "      <td>suicides/100k pop</td>\n",
       "      <td>-0.039254</td>\n",
       "      <td>0.307318</td>\n",
       "      <td>0.014041</td>\n",
       "      <td>1.000000</td>\n",
       "      <td>0.004350</td>\n",
       "    </tr>\n",
       "    <tr>\n",
       "      <td>gdp_per_capita ($)</td>\n",
       "      <td>0.227915</td>\n",
       "      <td>0.057922</td>\n",
       "      <td>0.082302</td>\n",
       "      <td>0.004350</td>\n",
       "      <td>1.000000</td>\n",
       "    </tr>\n",
       "  </tbody>\n",
       "</table>\n",
       "</div>"
      ],
      "text/plain": [
       "                        year  suicides_no  population  suicides/100k pop  \\\n",
       "year                1.000000    -0.004873    0.013322          -0.039254   \n",
       "suicides_no        -0.004873     1.000000    0.616352           0.307318   \n",
       "population          0.013322     0.616352    1.000000           0.014041   \n",
       "suicides/100k pop  -0.039254     0.307318    0.014041           1.000000   \n",
       "gdp_per_capita ($)  0.227915     0.057922    0.082302           0.004350   \n",
       "\n",
       "                    gdp_per_capita ($)  \n",
       "year                          0.227915  \n",
       "suicides_no                   0.057922  \n",
       "population                    0.082302  \n",
       "suicides/100k pop             0.004350  \n",
       "gdp_per_capita ($)            1.000000  "
      ]
     },
     "execution_count": 830,
     "metadata": {},
     "output_type": "execute_result"
    }
   ],
   "source": [
    "data.corr()"
   ]
  },
  {
   "cell_type": "markdown",
   "metadata": {},
   "source": [
    "## [INVALID APPROACH] Predicting Numerical value \n",
    "features: country, year, sex, age,gdp_per_capita\n",
    "\n",
    "target: suicides/100k pop"
   ]
  },
  {
   "cell_type": "markdown",
   "metadata": {},
   "source": [
    "**Convert sex column to dummy variables**\n",
    "\n",
    "\n",
    "so we could also use this to check the correlation "
   ]
  },
  {
   "cell_type": "code",
   "execution_count": 831,
   "metadata": {},
   "outputs": [],
   "source": [
    "data[\"gender_dummy\"] = data.sex.map({'male':0, 'female':1})"
   ]
  },
  {
   "cell_type": "markdown",
   "metadata": {},
   "source": [
    "**Convert country column to dummy variables**"
   ]
  },
  {
   "cell_type": "code",
   "execution_count": 832,
   "metadata": {},
   "outputs": [
    {
     "data": {
      "text/html": [
       "<div>\n",
       "<style scoped>\n",
       "    .dataframe tbody tr th:only-of-type {\n",
       "        vertical-align: middle;\n",
       "    }\n",
       "\n",
       "    .dataframe tbody tr th {\n",
       "        vertical-align: top;\n",
       "    }\n",
       "\n",
       "    .dataframe thead th {\n",
       "        text-align: right;\n",
       "    }\n",
       "</style>\n",
       "<table border=\"1\" class=\"dataframe\">\n",
       "  <thead>\n",
       "    <tr style=\"text-align: right;\">\n",
       "      <th></th>\n",
       "      <th>country_Albania</th>\n",
       "      <th>country_Antigua and Barbuda</th>\n",
       "      <th>country_Argentina</th>\n",
       "      <th>country_Armenia</th>\n",
       "      <th>country_Aruba</th>\n",
       "      <th>country_Australia</th>\n",
       "      <th>country_Austria</th>\n",
       "      <th>country_Bahamas</th>\n",
       "      <th>country_Bahrain</th>\n",
       "      <th>country_Barbados</th>\n",
       "      <th>...</th>\n",
       "      <th>country_Suriname</th>\n",
       "      <th>country_Sweden</th>\n",
       "      <th>country_Switzerland</th>\n",
       "      <th>country_Thailand</th>\n",
       "      <th>country_Trinidad and Tobago</th>\n",
       "      <th>country_Turkmenistan</th>\n",
       "      <th>country_Ukraine</th>\n",
       "      <th>country_United Kingdom</th>\n",
       "      <th>country_United States</th>\n",
       "      <th>country_Uruguay</th>\n",
       "    </tr>\n",
       "  </thead>\n",
       "  <tbody>\n",
       "    <tr>\n",
       "      <td>132</td>\n",
       "      <td>1</td>\n",
       "      <td>0</td>\n",
       "      <td>0</td>\n",
       "      <td>0</td>\n",
       "      <td>0</td>\n",
       "      <td>0</td>\n",
       "      <td>0</td>\n",
       "      <td>0</td>\n",
       "      <td>0</td>\n",
       "      <td>0</td>\n",
       "      <td>...</td>\n",
       "      <td>0</td>\n",
       "      <td>0</td>\n",
       "      <td>0</td>\n",
       "      <td>0</td>\n",
       "      <td>0</td>\n",
       "      <td>0</td>\n",
       "      <td>0</td>\n",
       "      <td>0</td>\n",
       "      <td>0</td>\n",
       "      <td>0</td>\n",
       "    </tr>\n",
       "    <tr>\n",
       "      <td>133</td>\n",
       "      <td>1</td>\n",
       "      <td>0</td>\n",
       "      <td>0</td>\n",
       "      <td>0</td>\n",
       "      <td>0</td>\n",
       "      <td>0</td>\n",
       "      <td>0</td>\n",
       "      <td>0</td>\n",
       "      <td>0</td>\n",
       "      <td>0</td>\n",
       "      <td>...</td>\n",
       "      <td>0</td>\n",
       "      <td>0</td>\n",
       "      <td>0</td>\n",
       "      <td>0</td>\n",
       "      <td>0</td>\n",
       "      <td>0</td>\n",
       "      <td>0</td>\n",
       "      <td>0</td>\n",
       "      <td>0</td>\n",
       "      <td>0</td>\n",
       "    </tr>\n",
       "    <tr>\n",
       "      <td>134</td>\n",
       "      <td>1</td>\n",
       "      <td>0</td>\n",
       "      <td>0</td>\n",
       "      <td>0</td>\n",
       "      <td>0</td>\n",
       "      <td>0</td>\n",
       "      <td>0</td>\n",
       "      <td>0</td>\n",
       "      <td>0</td>\n",
       "      <td>0</td>\n",
       "      <td>...</td>\n",
       "      <td>0</td>\n",
       "      <td>0</td>\n",
       "      <td>0</td>\n",
       "      <td>0</td>\n",
       "      <td>0</td>\n",
       "      <td>0</td>\n",
       "      <td>0</td>\n",
       "      <td>0</td>\n",
       "      <td>0</td>\n",
       "      <td>0</td>\n",
       "    </tr>\n",
       "    <tr>\n",
       "      <td>135</td>\n",
       "      <td>1</td>\n",
       "      <td>0</td>\n",
       "      <td>0</td>\n",
       "      <td>0</td>\n",
       "      <td>0</td>\n",
       "      <td>0</td>\n",
       "      <td>0</td>\n",
       "      <td>0</td>\n",
       "      <td>0</td>\n",
       "      <td>0</td>\n",
       "      <td>...</td>\n",
       "      <td>0</td>\n",
       "      <td>0</td>\n",
       "      <td>0</td>\n",
       "      <td>0</td>\n",
       "      <td>0</td>\n",
       "      <td>0</td>\n",
       "      <td>0</td>\n",
       "      <td>0</td>\n",
       "      <td>0</td>\n",
       "      <td>0</td>\n",
       "    </tr>\n",
       "    <tr>\n",
       "      <td>136</td>\n",
       "      <td>1</td>\n",
       "      <td>0</td>\n",
       "      <td>0</td>\n",
       "      <td>0</td>\n",
       "      <td>0</td>\n",
       "      <td>0</td>\n",
       "      <td>0</td>\n",
       "      <td>0</td>\n",
       "      <td>0</td>\n",
       "      <td>0</td>\n",
       "      <td>...</td>\n",
       "      <td>0</td>\n",
       "      <td>0</td>\n",
       "      <td>0</td>\n",
       "      <td>0</td>\n",
       "      <td>0</td>\n",
       "      <td>0</td>\n",
       "      <td>0</td>\n",
       "      <td>0</td>\n",
       "      <td>0</td>\n",
       "      <td>0</td>\n",
       "    </tr>\n",
       "  </tbody>\n",
       "</table>\n",
       "<p>5 rows × 82 columns</p>\n",
       "</div>"
      ],
      "text/plain": [
       "     country_Albania  country_Antigua and Barbuda  country_Argentina  \\\n",
       "132                1                            0                  0   \n",
       "133                1                            0                  0   \n",
       "134                1                            0                  0   \n",
       "135                1                            0                  0   \n",
       "136                1                            0                  0   \n",
       "\n",
       "     country_Armenia  country_Aruba  country_Australia  country_Austria  \\\n",
       "132                0              0                  0                0   \n",
       "133                0              0                  0                0   \n",
       "134                0              0                  0                0   \n",
       "135                0              0                  0                0   \n",
       "136                0              0                  0                0   \n",
       "\n",
       "     country_Bahamas  country_Bahrain  country_Barbados  ...  \\\n",
       "132                0                0                 0  ...   \n",
       "133                0                0                 0  ...   \n",
       "134                0                0                 0  ...   \n",
       "135                0                0                 0  ...   \n",
       "136                0                0                 0  ...   \n",
       "\n",
       "     country_Suriname  country_Sweden  country_Switzerland  country_Thailand  \\\n",
       "132                 0               0                    0                 0   \n",
       "133                 0               0                    0                 0   \n",
       "134                 0               0                    0                 0   \n",
       "135                 0               0                    0                 0   \n",
       "136                 0               0                    0                 0   \n",
       "\n",
       "     country_Trinidad and Tobago  country_Turkmenistan  country_Ukraine  \\\n",
       "132                            0                     0                0   \n",
       "133                            0                     0                0   \n",
       "134                            0                     0                0   \n",
       "135                            0                     0                0   \n",
       "136                            0                     0                0   \n",
       "\n",
       "     country_United Kingdom  country_United States  country_Uruguay  \n",
       "132                       0                      0                0  \n",
       "133                       0                      0                0  \n",
       "134                       0                      0                0  \n",
       "135                       0                      0                0  \n",
       "136                       0                      0                0  \n",
       "\n",
       "[5 rows x 82 columns]"
      ]
     },
     "execution_count": 832,
     "metadata": {},
     "output_type": "execute_result"
    }
   ],
   "source": [
    "# create three dummy variables using get_dummies\n",
    "frame_dummies = pd.get_dummies(data[\"country\"], prefix='country')\n",
    "frame_dummies.head()"
   ]
  },
  {
   "cell_type": "code",
   "execution_count": 833,
   "metadata": {},
   "outputs": [],
   "source": [
    "# # concatenate the dummy variable columns onto the DataFrame (axis=0 means rows, axis=1 means columns)\n",
    "# data = pd.concat([data, frame_dummies], axis=1)\n",
    "# data.head()"
   ]
  },
  {
   "cell_type": "markdown",
   "metadata": {},
   "source": [
    "There are too many columns for country, and would be very impractical to set all of them as individual features and train them, therefore we should change an approach"
   ]
  },
  {
   "cell_type": "markdown",
   "metadata": {},
   "source": [
    "# Predicting categorical value\n",
    "features: country,\tyear, sex, age,gdp_per_capita\n",
    "\n",
    "\n",
    "target: suicides/100k pop\n"
   ]
  },
  {
   "cell_type": "code",
   "execution_count": 834,
   "metadata": {},
   "outputs": [],
   "source": [
    "def label_encode(df, columns):\n",
    "    for col in columns:\n",
    "        le = LabelEncoder()\n",
    "        col_values_unique = list(df[col].unique())\n",
    "        le_fitted = le.fit(col_values_unique)\n",
    " \n",
    "        col_values = list(df[col].values)\n",
    "        #le.classes_\n",
    "        col_values_transformed = le.transform(col_values)\n",
    "        df[col] = col_values_transformed"
   ]
  },
  {
   "cell_type": "code",
   "execution_count": 835,
   "metadata": {},
   "outputs": [],
   "source": [
    "# from sklearn.preprocessing import LabelBinarizer, LabelEncoder, OneHotEncoder\n",
    "# from sklearn.metrics import roc_auc_score\n",
    "\n",
    "# def multiclass_roc_auc_score(y_test, y_pred, average=\"macro\"):\n",
    "#     lb = LabelBinarizer()\n",
    "#     lb.fit(y_test)\n",
    "#     y_test = lb.transform(y_test)\n",
    "#     y_pred = lb.transform(y_pred)\n",
    "#     return roc_auc_score(y_test, y_pred, average=average)"
   ]
  },
  {
   "cell_type": "code",
   "execution_count": 836,
   "metadata": {},
   "outputs": [
    {
     "data": {
      "text/plain": [
       "count    10571.000000\n",
       "mean        12.756734\n",
       "std         18.747711\n",
       "min          0.000000\n",
       "25%          0.870000\n",
       "50%          5.860000\n",
       "75%         16.655000\n",
       "max        182.320000\n",
       "Name: suicides/100k pop, dtype: float64"
      ]
     },
     "execution_count": 836,
     "metadata": {},
     "output_type": "execute_result"
    }
   ],
   "source": [
    "data[\"suicides/100k pop\"].describe()"
   ]
  },
  {
   "cell_type": "code",
   "execution_count": 837,
   "metadata": {},
   "outputs": [
    {
     "data": {
      "text/plain": [
       "<matplotlib.axes._subplots.AxesSubplot at 0x1ec2bfffe08>"
      ]
     },
     "execution_count": 837,
     "metadata": {},
     "output_type": "execute_result"
    },
    {
     "data": {
      "image/png": "[encoded data removed]",
      "text/plain": [
       "<Figure size 432x288 with 1 Axes>"
      ]
     },
     "metadata": {
      "needs_background": "light"
     },
     "output_type": "display_data"
    }
   ],
   "source": [
    "data[\"suicides/100k pop\"].hist()"
   ]
  },
  {
   "cell_type": "code",
   "execution_count": 838,
   "metadata": {},
   "outputs": [
    {
     "data": {
      "text/plain": [
       "count    10571.000000\n",
       "mean        12.756734\n",
       "std         18.747711\n",
       "min          0.000000\n",
       "25%          0.870000\n",
       "50%          5.860000\n",
       "75%         16.655000\n",
       "max        182.320000\n",
       "Name: suicides/100k pop, dtype: float64"
      ]
     },
     "execution_count": 838,
     "metadata": {},
     "output_type": "execute_result"
    }
   ],
   "source": [
    "data[\"suicides/100k pop\"].describe()"
   ]
  },
  {
   "cell_type": "markdown",
   "metadata": {},
   "source": [
    "**Using label buckets for suicide/100k pop**"
   ]
  },
  {
   "cell_type": "code",
   "execution_count": 839,
   "metadata": {},
   "outputs": [],
   "source": [
    "data[\"suicide_buckets\"] = pd.cut(data[\"suicides/100k pop\"], [0,2,5,15,200], labels=[\"su_0_2\", \"su_2_5\", \"su_5_15\", \"su_15_200\"], include_lowest=True)"
   ]
  },
  {
   "cell_type": "code",
   "execution_count": 840,
   "metadata": {
    "scrolled": false
   },
   "outputs": [
    {
     "data": {
      "text/html": [
       "<div>\n",
       "<style scoped>\n",
       "    .dataframe tbody tr th:only-of-type {\n",
       "        vertical-align: middle;\n",
       "    }\n",
       "\n",
       "    .dataframe tbody tr th {\n",
       "        vertical-align: top;\n",
       "    }\n",
       "\n",
       "    .dataframe thead th {\n",
       "        text-align: right;\n",
       "    }\n",
       "</style>\n",
       "<table border=\"1\" class=\"dataframe\">\n",
       "  <thead>\n",
       "    <tr style=\"text-align: right;\">\n",
       "      <th></th>\n",
       "      <th>country</th>\n",
       "      <th>year</th>\n",
       "      <th>sex</th>\n",
       "      <th>age</th>\n",
       "      <th>suicides_no</th>\n",
       "      <th>population</th>\n",
       "      <th>suicides/100k pop</th>\n",
       "      <th>country-year</th>\n",
       "      <th>gdp_for_year ($)</th>\n",
       "      <th>gdp_per_capita ($)</th>\n",
       "      <th>generation</th>\n",
       "      <th>gender_dummy</th>\n",
       "      <th>suicide_buckets</th>\n",
       "    </tr>\n",
       "  </thead>\n",
       "  <tbody>\n",
       "    <tr>\n",
       "      <td>132</td>\n",
       "      <td>Albania</td>\n",
       "      <td>2000</td>\n",
       "      <td>male</td>\n",
       "      <td>25-34 years</td>\n",
       "      <td>17</td>\n",
       "      <td>232000</td>\n",
       "      <td>7.33</td>\n",
       "      <td>Albania2000</td>\n",
       "      <td>3,632,043,908</td>\n",
       "      <td>1299</td>\n",
       "      <td>Generation X</td>\n",
       "      <td>0</td>\n",
       "      <td>su_5_15</td>\n",
       "    </tr>\n",
       "    <tr>\n",
       "      <td>133</td>\n",
       "      <td>Albania</td>\n",
       "      <td>2000</td>\n",
       "      <td>male</td>\n",
       "      <td>55-74 years</td>\n",
       "      <td>10</td>\n",
       "      <td>177400</td>\n",
       "      <td>5.64</td>\n",
       "      <td>Albania2000</td>\n",
       "      <td>3,632,043,908</td>\n",
       "      <td>1299</td>\n",
       "      <td>Silent</td>\n",
       "      <td>0</td>\n",
       "      <td>su_5_15</td>\n",
       "    </tr>\n",
       "    <tr>\n",
       "      <td>134</td>\n",
       "      <td>Albania</td>\n",
       "      <td>2000</td>\n",
       "      <td>female</td>\n",
       "      <td>75+ years</td>\n",
       "      <td>2</td>\n",
       "      <td>37800</td>\n",
       "      <td>5.29</td>\n",
       "      <td>Albania2000</td>\n",
       "      <td>3,632,043,908</td>\n",
       "      <td>1299</td>\n",
       "      <td>G.I. Generation</td>\n",
       "      <td>1</td>\n",
       "      <td>su_5_15</td>\n",
       "    </tr>\n",
       "    <tr>\n",
       "      <td>135</td>\n",
       "      <td>Albania</td>\n",
       "      <td>2000</td>\n",
       "      <td>male</td>\n",
       "      <td>75+ years</td>\n",
       "      <td>1</td>\n",
       "      <td>24900</td>\n",
       "      <td>4.02</td>\n",
       "      <td>Albania2000</td>\n",
       "      <td>3,632,043,908</td>\n",
       "      <td>1299</td>\n",
       "      <td>G.I. Generation</td>\n",
       "      <td>0</td>\n",
       "      <td>su_2_5</td>\n",
       "    </tr>\n",
       "    <tr>\n",
       "      <td>136</td>\n",
       "      <td>Albania</td>\n",
       "      <td>2000</td>\n",
       "      <td>female</td>\n",
       "      <td>15-24 years</td>\n",
       "      <td>6</td>\n",
       "      <td>263900</td>\n",
       "      <td>2.27</td>\n",
       "      <td>Albania2000</td>\n",
       "      <td>3,632,043,908</td>\n",
       "      <td>1299</td>\n",
       "      <td>Generation X</td>\n",
       "      <td>1</td>\n",
       "      <td>su_2_5</td>\n",
       "    </tr>\n",
       "    <tr>\n",
       "      <td>...</td>\n",
       "      <td>...</td>\n",
       "      <td>...</td>\n",
       "      <td>...</td>\n",
       "      <td>...</td>\n",
       "      <td>...</td>\n",
       "      <td>...</td>\n",
       "      <td>...</td>\n",
       "      <td>...</td>\n",
       "      <td>...</td>\n",
       "      <td>...</td>\n",
       "      <td>...</td>\n",
       "      <td>...</td>\n",
       "      <td>...</td>\n",
       "    </tr>\n",
       "    <tr>\n",
       "      <td>27503</td>\n",
       "      <td>Uruguay</td>\n",
       "      <td>2010</td>\n",
       "      <td>female</td>\n",
       "      <td>35-54 years</td>\n",
       "      <td>38</td>\n",
       "      <td>427551</td>\n",
       "      <td>8.89</td>\n",
       "      <td>Uruguay2010</td>\n",
       "      <td>40,284,481,652</td>\n",
       "      <td>12882</td>\n",
       "      <td>Generation X</td>\n",
       "      <td>1</td>\n",
       "      <td>su_5_15</td>\n",
       "    </tr>\n",
       "    <tr>\n",
       "      <td>27504</td>\n",
       "      <td>Uruguay</td>\n",
       "      <td>2010</td>\n",
       "      <td>female</td>\n",
       "      <td>25-34 years</td>\n",
       "      <td>18</td>\n",
       "      <td>235276</td>\n",
       "      <td>7.65</td>\n",
       "      <td>Uruguay2010</td>\n",
       "      <td>40,284,481,652</td>\n",
       "      <td>12882</td>\n",
       "      <td>Generation X</td>\n",
       "      <td>1</td>\n",
       "      <td>su_5_15</td>\n",
       "    </tr>\n",
       "    <tr>\n",
       "      <td>27505</td>\n",
       "      <td>Uruguay</td>\n",
       "      <td>2010</td>\n",
       "      <td>female</td>\n",
       "      <td>15-24 years</td>\n",
       "      <td>11</td>\n",
       "      <td>253651</td>\n",
       "      <td>4.34</td>\n",
       "      <td>Uruguay2010</td>\n",
       "      <td>40,284,481,652</td>\n",
       "      <td>12882</td>\n",
       "      <td>Millenials</td>\n",
       "      <td>1</td>\n",
       "      <td>su_2_5</td>\n",
       "    </tr>\n",
       "    <tr>\n",
       "      <td>27506</td>\n",
       "      <td>Uruguay</td>\n",
       "      <td>2010</td>\n",
       "      <td>female</td>\n",
       "      <td>5-14 years</td>\n",
       "      <td>3</td>\n",
       "      <td>251005</td>\n",
       "      <td>1.20</td>\n",
       "      <td>Uruguay2010</td>\n",
       "      <td>40,284,481,652</td>\n",
       "      <td>12882</td>\n",
       "      <td>Generation Z</td>\n",
       "      <td>1</td>\n",
       "      <td>su_0_2</td>\n",
       "    </tr>\n",
       "    <tr>\n",
       "      <td>27507</td>\n",
       "      <td>Uruguay</td>\n",
       "      <td>2010</td>\n",
       "      <td>male</td>\n",
       "      <td>5-14 years</td>\n",
       "      <td>1</td>\n",
       "      <td>261266</td>\n",
       "      <td>0.38</td>\n",
       "      <td>Uruguay2010</td>\n",
       "      <td>40,284,481,652</td>\n",
       "      <td>12882</td>\n",
       "      <td>Generation Z</td>\n",
       "      <td>0</td>\n",
       "      <td>su_0_2</td>\n",
       "    </tr>\n",
       "  </tbody>\n",
       "</table>\n",
       "<p>10571 rows × 13 columns</p>\n",
       "</div>"
      ],
      "text/plain": [
       "       country  year     sex          age  suicides_no  population  \\\n",
       "132    Albania  2000    male  25-34 years           17      232000   \n",
       "133    Albania  2000    male  55-74 years           10      177400   \n",
       "134    Albania  2000  female    75+ years            2       37800   \n",
       "135    Albania  2000    male    75+ years            1       24900   \n",
       "136    Albania  2000  female  15-24 years            6      263900   \n",
       "...        ...   ...     ...          ...          ...         ...   \n",
       "27503  Uruguay  2010  female  35-54 years           38      427551   \n",
       "27504  Uruguay  2010  female  25-34 years           18      235276   \n",
       "27505  Uruguay  2010  female  15-24 years           11      253651   \n",
       "27506  Uruguay  2010  female   5-14 years            3      251005   \n",
       "27507  Uruguay  2010    male   5-14 years            1      261266   \n",
       "\n",
       "       suicides/100k pop country-year  gdp_for_year ($)   gdp_per_capita ($)  \\\n",
       "132                 7.33  Albania2000      3,632,043,908                1299   \n",
       "133                 5.64  Albania2000      3,632,043,908                1299   \n",
       "134                 5.29  Albania2000      3,632,043,908                1299   \n",
       "135                 4.02  Albania2000      3,632,043,908                1299   \n",
       "136                 2.27  Albania2000      3,632,043,908                1299   \n",
       "...                  ...          ...                ...                 ...   \n",
       "27503               8.89  Uruguay2010     40,284,481,652               12882   \n",
       "27504               7.65  Uruguay2010     40,284,481,652               12882   \n",
       "27505               4.34  Uruguay2010     40,284,481,652               12882   \n",
       "27506               1.20  Uruguay2010     40,284,481,652               12882   \n",
       "27507               0.38  Uruguay2010     40,284,481,652               12882   \n",
       "\n",
       "            generation  gender_dummy suicide_buckets  \n",
       "132       Generation X             0         su_5_15  \n",
       "133             Silent             0         su_5_15  \n",
       "134    G.I. Generation             1         su_5_15  \n",
       "135    G.I. Generation             0          su_2_5  \n",
       "136       Generation X             1          su_2_5  \n",
       "...                ...           ...             ...  \n",
       "27503     Generation X             1         su_5_15  \n",
       "27504     Generation X             1         su_5_15  \n",
       "27505       Millenials             1          su_2_5  \n",
       "27506     Generation Z             1          su_0_2  \n",
       "27507     Generation Z             0          su_0_2  \n",
       "\n",
       "[10571 rows x 13 columns]"
      ]
     },
     "execution_count": 840,
     "metadata": {},
     "output_type": "execute_result"
    }
   ],
   "source": [
    "data"
   ]
  },
  {
   "cell_type": "code",
   "execution_count": 841,
   "metadata": {},
   "outputs": [
    {
     "data": {
      "text/html": [
       "<div>\n",
       "<style scoped>\n",
       "    .dataframe tbody tr th:only-of-type {\n",
       "        vertical-align: middle;\n",
       "    }\n",
       "\n",
       "    .dataframe tbody tr th {\n",
       "        vertical-align: top;\n",
       "    }\n",
       "\n",
       "    .dataframe thead th {\n",
       "        text-align: right;\n",
       "    }\n",
       "</style>\n",
       "<table border=\"1\" class=\"dataframe\">\n",
       "  <thead>\n",
       "    <tr style=\"text-align: right;\">\n",
       "      <th></th>\n",
       "      <th>year</th>\n",
       "      <th>suicides_no</th>\n",
       "      <th>population</th>\n",
       "      <th>suicides/100k pop</th>\n",
       "      <th>gdp_per_capita ($)</th>\n",
       "      <th>gender_dummy</th>\n",
       "    </tr>\n",
       "  </thead>\n",
       "  <tbody>\n",
       "    <tr>\n",
       "      <td>year</td>\n",
       "      <td>1.000000</td>\n",
       "      <td>-0.004873</td>\n",
       "      <td>0.013322</td>\n",
       "      <td>-0.039254</td>\n",
       "      <td>0.227915</td>\n",
       "      <td>0.000030</td>\n",
       "    </tr>\n",
       "    <tr>\n",
       "      <td>suicides_no</td>\n",
       "      <td>-0.004873</td>\n",
       "      <td>1.000000</td>\n",
       "      <td>0.616352</td>\n",
       "      <td>0.307318</td>\n",
       "      <td>0.057922</td>\n",
       "      <td>-0.145588</td>\n",
       "    </tr>\n",
       "    <tr>\n",
       "      <td>population</td>\n",
       "      <td>0.013322</td>\n",
       "      <td>0.616352</td>\n",
       "      <td>1.000000</td>\n",
       "      <td>0.014041</td>\n",
       "      <td>0.082302</td>\n",
       "      <td>0.011241</td>\n",
       "    </tr>\n",
       "    <tr>\n",
       "      <td>suicides/100k pop</td>\n",
       "      <td>-0.039254</td>\n",
       "      <td>0.307318</td>\n",
       "      <td>0.014041</td>\n",
       "      <td>1.000000</td>\n",
       "      <td>0.004350</td>\n",
       "      <td>-0.401691</td>\n",
       "    </tr>\n",
       "    <tr>\n",
       "      <td>gdp_per_capita ($)</td>\n",
       "      <td>0.227915</td>\n",
       "      <td>0.057922</td>\n",
       "      <td>0.082302</td>\n",
       "      <td>0.004350</td>\n",
       "      <td>1.000000</td>\n",
       "      <td>-0.000032</td>\n",
       "    </tr>\n",
       "    <tr>\n",
       "      <td>gender_dummy</td>\n",
       "      <td>0.000030</td>\n",
       "      <td>-0.145588</td>\n",
       "      <td>0.011241</td>\n",
       "      <td>-0.401691</td>\n",
       "      <td>-0.000032</td>\n",
       "      <td>1.000000</td>\n",
       "    </tr>\n",
       "  </tbody>\n",
       "</table>\n",
       "</div>"
      ],
      "text/plain": [
       "                        year  suicides_no  population  suicides/100k pop  \\\n",
       "year                1.000000    -0.004873    0.013322          -0.039254   \n",
       "suicides_no        -0.004873     1.000000    0.616352           0.307318   \n",
       "population          0.013322     0.616352    1.000000           0.014041   \n",
       "suicides/100k pop  -0.039254     0.307318    0.014041           1.000000   \n",
       "gdp_per_capita ($)  0.227915     0.057922    0.082302           0.004350   \n",
       "gender_dummy        0.000030    -0.145588    0.011241          -0.401691   \n",
       "\n",
       "                    gdp_per_capita ($)  gender_dummy  \n",
       "year                          0.227915      0.000030  \n",
       "suicides_no                   0.057922     -0.145588  \n",
       "population                    0.082302      0.011241  \n",
       "suicides/100k pop             0.004350     -0.401691  \n",
       "gdp_per_capita ($)            1.000000     -0.000032  \n",
       "gender_dummy                 -0.000032      1.000000  "
      ]
     },
     "execution_count": 841,
     "metadata": {},
     "output_type": "execute_result"
    }
   ],
   "source": [
    "data.corr()"
   ]
  },
  {
   "cell_type": "code",
   "execution_count": 842,
   "metadata": {},
   "outputs": [
    {
     "name": "stderr",
     "output_type": "stream",
     "text": [
      "C:\\Users\\paige\\Anaconda3\\lib\\site-packages\\ipykernel_launcher.py:10: SettingWithCopyWarning: \n",
      "A value is trying to be set on a copy of a slice from a DataFrame.\n",
      "Try using .loc[row_indexer,col_indexer] = value instead\n",
      "\n",
      "See the caveats in the documentation: http://pandas.pydata.org/pandas-docs/stable/user_guide/indexing.html#returning-a-view-versus-a-copy\n",
      "  # Remove the CWD from sys.path while we load stuff.\n"
     ]
    }
   ],
   "source": [
    "features = data[['country','age','country-year','sex']]\n",
    "\n",
    "label_encode(features, features.columns.values)\n",
    "\n",
    "target = data[['suicide_buckets']]\n",
    "label_encode(target, target.columns.values)\n",
    "\n",
    "\n",
    "features_train, features_test, target_train, target_test = train_test_split(features, target, test_size = 0.33, random_state = 10)\n"
   ]
  },
  {
   "cell_type": "code",
   "execution_count": 843,
   "metadata": {},
   "outputs": [
    {
     "data": {
      "text/html": [
       "<div>\n",
       "<style scoped>\n",
       "    .dataframe tbody tr th:only-of-type {\n",
       "        vertical-align: middle;\n",
       "    }\n",
       "\n",
       "    .dataframe tbody tr th {\n",
       "        vertical-align: top;\n",
       "    }\n",
       "\n",
       "    .dataframe thead th {\n",
       "        text-align: right;\n",
       "    }\n",
       "</style>\n",
       "<table border=\"1\" class=\"dataframe\">\n",
       "  <thead>\n",
       "    <tr style=\"text-align: right;\">\n",
       "      <th></th>\n",
       "      <th>country</th>\n",
       "      <th>age</th>\n",
       "      <th>country-year</th>\n",
       "      <th>sex</th>\n",
       "    </tr>\n",
       "  </thead>\n",
       "  <tbody>\n",
       "    <tr>\n",
       "      <td>132</td>\n",
       "      <td>0</td>\n",
       "      <td>1</td>\n",
       "      <td>0</td>\n",
       "      <td>1</td>\n",
       "    </tr>\n",
       "    <tr>\n",
       "      <td>133</td>\n",
       "      <td>0</td>\n",
       "      <td>4</td>\n",
       "      <td>0</td>\n",
       "      <td>1</td>\n",
       "    </tr>\n",
       "    <tr>\n",
       "      <td>134</td>\n",
       "      <td>0</td>\n",
       "      <td>5</td>\n",
       "      <td>0</td>\n",
       "      <td>0</td>\n",
       "    </tr>\n",
       "    <tr>\n",
       "      <td>135</td>\n",
       "      <td>0</td>\n",
       "      <td>5</td>\n",
       "      <td>0</td>\n",
       "      <td>1</td>\n",
       "    </tr>\n",
       "    <tr>\n",
       "      <td>136</td>\n",
       "      <td>0</td>\n",
       "      <td>0</td>\n",
       "      <td>0</td>\n",
       "      <td>0</td>\n",
       "    </tr>\n",
       "    <tr>\n",
       "      <td>...</td>\n",
       "      <td>...</td>\n",
       "      <td>...</td>\n",
       "      <td>...</td>\n",
       "      <td>...</td>\n",
       "    </tr>\n",
       "    <tr>\n",
       "      <td>27503</td>\n",
       "      <td>81</td>\n",
       "      <td>2</td>\n",
       "      <td>880</td>\n",
       "      <td>0</td>\n",
       "    </tr>\n",
       "    <tr>\n",
       "      <td>27504</td>\n",
       "      <td>81</td>\n",
       "      <td>1</td>\n",
       "      <td>880</td>\n",
       "      <td>0</td>\n",
       "    </tr>\n",
       "    <tr>\n",
       "      <td>27505</td>\n",
       "      <td>81</td>\n",
       "      <td>0</td>\n",
       "      <td>880</td>\n",
       "      <td>0</td>\n",
       "    </tr>\n",
       "    <tr>\n",
       "      <td>27506</td>\n",
       "      <td>81</td>\n",
       "      <td>3</td>\n",
       "      <td>880</td>\n",
       "      <td>0</td>\n",
       "    </tr>\n",
       "    <tr>\n",
       "      <td>27507</td>\n",
       "      <td>81</td>\n",
       "      <td>3</td>\n",
       "      <td>880</td>\n",
       "      <td>1</td>\n",
       "    </tr>\n",
       "  </tbody>\n",
       "</table>\n",
       "<p>10571 rows × 4 columns</p>\n",
       "</div>"
      ],
      "text/plain": [
       "       country  age  country-year  sex\n",
       "132          0    1             0    1\n",
       "133          0    4             0    1\n",
       "134          0    5             0    0\n",
       "135          0    5             0    1\n",
       "136          0    0             0    0\n",
       "...        ...  ...           ...  ...\n",
       "27503       81    2           880    0\n",
       "27504       81    1           880    0\n",
       "27505       81    0           880    0\n",
       "27506       81    3           880    0\n",
       "27507       81    3           880    1\n",
       "\n",
       "[10571 rows x 4 columns]"
      ]
     },
     "execution_count": 843,
     "metadata": {},
     "output_type": "execute_result"
    }
   ],
   "source": [
    "features"
   ]
  },
  {
   "cell_type": "code",
   "execution_count": 844,
   "metadata": {},
   "outputs": [
    {
     "data": {
      "text/html": [
       "<div>\n",
       "<style scoped>\n",
       "    .dataframe tbody tr th:only-of-type {\n",
       "        vertical-align: middle;\n",
       "    }\n",
       "\n",
       "    .dataframe tbody tr th {\n",
       "        vertical-align: top;\n",
       "    }\n",
       "\n",
       "    .dataframe thead th {\n",
       "        text-align: right;\n",
       "    }\n",
       "</style>\n",
       "<table border=\"1\" class=\"dataframe\">\n",
       "  <thead>\n",
       "    <tr style=\"text-align: right;\">\n",
       "      <th></th>\n",
       "      <th>year</th>\n",
       "      <th>suicides_no</th>\n",
       "      <th>population</th>\n",
       "      <th>suicides/100k pop</th>\n",
       "      <th>gdp_per_capita ($)</th>\n",
       "      <th>gender_dummy</th>\n",
       "    </tr>\n",
       "  </thead>\n",
       "  <tbody>\n",
       "    <tr>\n",
       "      <td>year</td>\n",
       "      <td>1.000000</td>\n",
       "      <td>-0.004873</td>\n",
       "      <td>0.013322</td>\n",
       "      <td>-0.039254</td>\n",
       "      <td>0.227915</td>\n",
       "      <td>0.000030</td>\n",
       "    </tr>\n",
       "    <tr>\n",
       "      <td>suicides_no</td>\n",
       "      <td>-0.004873</td>\n",
       "      <td>1.000000</td>\n",
       "      <td>0.616352</td>\n",
       "      <td>0.307318</td>\n",
       "      <td>0.057922</td>\n",
       "      <td>-0.145588</td>\n",
       "    </tr>\n",
       "    <tr>\n",
       "      <td>population</td>\n",
       "      <td>0.013322</td>\n",
       "      <td>0.616352</td>\n",
       "      <td>1.000000</td>\n",
       "      <td>0.014041</td>\n",
       "      <td>0.082302</td>\n",
       "      <td>0.011241</td>\n",
       "    </tr>\n",
       "    <tr>\n",
       "      <td>suicides/100k pop</td>\n",
       "      <td>-0.039254</td>\n",
       "      <td>0.307318</td>\n",
       "      <td>0.014041</td>\n",
       "      <td>1.000000</td>\n",
       "      <td>0.004350</td>\n",
       "      <td>-0.401691</td>\n",
       "    </tr>\n",
       "    <tr>\n",
       "      <td>gdp_per_capita ($)</td>\n",
       "      <td>0.227915</td>\n",
       "      <td>0.057922</td>\n",
       "      <td>0.082302</td>\n",
       "      <td>0.004350</td>\n",
       "      <td>1.000000</td>\n",
       "      <td>-0.000032</td>\n",
       "    </tr>\n",
       "    <tr>\n",
       "      <td>gender_dummy</td>\n",
       "      <td>0.000030</td>\n",
       "      <td>-0.145588</td>\n",
       "      <td>0.011241</td>\n",
       "      <td>-0.401691</td>\n",
       "      <td>-0.000032</td>\n",
       "      <td>1.000000</td>\n",
       "    </tr>\n",
       "  </tbody>\n",
       "</table>\n",
       "</div>"
      ],
      "text/plain": [
       "                        year  suicides_no  population  suicides/100k pop  \\\n",
       "year                1.000000    -0.004873    0.013322          -0.039254   \n",
       "suicides_no        -0.004873     1.000000    0.616352           0.307318   \n",
       "population          0.013322     0.616352    1.000000           0.014041   \n",
       "suicides/100k pop  -0.039254     0.307318    0.014041           1.000000   \n",
       "gdp_per_capita ($)  0.227915     0.057922    0.082302           0.004350   \n",
       "gender_dummy        0.000030    -0.145588    0.011241          -0.401691   \n",
       "\n",
       "                    gdp_per_capita ($)  gender_dummy  \n",
       "year                          0.227915      0.000030  \n",
       "suicides_no                   0.057922     -0.145588  \n",
       "population                    0.082302      0.011241  \n",
       "suicides/100k pop             0.004350     -0.401691  \n",
       "gdp_per_capita ($)            1.000000     -0.000032  \n",
       "gender_dummy                 -0.000032      1.000000  "
      ]
     },
     "execution_count": 844,
     "metadata": {},
     "output_type": "execute_result"
    }
   ],
   "source": [
    "data.corr()"
   ]
  },
  {
   "cell_type": "markdown",
   "metadata": {},
   "source": [
    "**Naive Bayes**"
   ]
  },
  {
   "cell_type": "code",
   "execution_count": 845,
   "metadata": {},
   "outputs": [
    {
     "name": "stderr",
     "output_type": "stream",
     "text": [
      "C:\\Users\\paige\\Anaconda3\\lib\\site-packages\\sklearn\\utils\\validation.py:724: DataConversionWarning: A column-vector y was passed when a 1d array was expected. Please change the shape of y to (n_samples, ), for example using ravel().\n",
      "  y = column_or_1d(y, warn=True)\n"
     ]
    },
    {
     "data": {
      "text/plain": [
       "array([1, 0, 1, ..., 0, 1, 0], dtype=int64)"
      ]
     },
     "execution_count": 845,
     "metadata": {},
     "output_type": "execute_result"
    }
   ],
   "source": [
    "nb = GaussianNB()\n",
    "nb.fit(features_train, target_train)\n",
    "target_pred = nb.predict(features_test)\n",
    "target_pred"
   ]
  },
  {
   "cell_type": "code",
   "execution_count": 846,
   "metadata": {},
   "outputs": [
    {
     "name": "stdout",
     "output_type": "stream",
     "text": [
      "0.46775580395528804\n"
     ]
    }
   ],
   "source": [
    "from sklearn import metrics\n",
    "print(metrics.accuracy_score(target_test, target_pred))"
   ]
  },
  {
   "cell_type": "code",
   "execution_count": 847,
   "metadata": {},
   "outputs": [
    {
     "data": {
      "text/plain": [
       "0.6149125784799309"
      ]
     },
     "execution_count": 847,
     "metadata": {},
     "output_type": "execute_result"
    }
   ],
   "source": [
    "multiclass_roc_auc_score(target_test, target_pred)"
   ]
  },
  {
   "cell_type": "markdown",
   "metadata": {},
   "source": [
    "**SVM**"
   ]
  },
  {
   "cell_type": "code",
   "execution_count": 848,
   "metadata": {},
   "outputs": [],
   "source": [
    "# split X and y into training and testing sets\n",
    "from sklearn.model_selection import train_test_split\n",
    "features_train, features_test, target_train, target_test = train_test_split(features, target, test_size=0.20, random_state=1)"
   ]
  },
  {
   "cell_type": "code",
   "execution_count": 849,
   "metadata": {},
   "outputs": [
    {
     "name": "stderr",
     "output_type": "stream",
     "text": [
      "C:\\Users\\paige\\Anaconda3\\lib\\site-packages\\sklearn\\utils\\validation.py:724: DataConversionWarning: A column-vector y was passed when a 1d array was expected. Please change the shape of y to (n_samples, ), for example using ravel().\n",
      "  y = column_or_1d(y, warn=True)\n",
      "C:\\Users\\paige\\Anaconda3\\lib\\site-packages\\sklearn\\svm\\base.py:193: FutureWarning: The default value of gamma will change from 'auto' to 'scale' in version 0.22 to account better for unscaled features. Set gamma explicitly to 'auto' or 'scale' to avoid this warning.\n",
      "  \"avoid this warning.\", FutureWarning)\n"
     ]
    },
    {
     "data": {
      "text/plain": [
       "SVC(C=1.0, cache_size=200, class_weight=None, coef0=0.0,\n",
       "    decision_function_shape='ovr', degree=3, gamma='auto_deprecated',\n",
       "    kernel='rbf', max_iter=-1, probability=False, random_state=None,\n",
       "    shrinking=True, tol=0.001, verbose=False)"
      ]
     },
     "execution_count": 849,
     "metadata": {},
     "output_type": "execute_result"
    }
   ],
   "source": [
    "from sklearn import svm\n",
    "\n",
    "# instantiate model\n",
    "model = svm.SVC() \n",
    "\n",
    "# fit model\n",
    "model.fit(features_train, target_train)"
   ]
  },
  {
   "cell_type": "code",
   "execution_count": 850,
   "metadata": {},
   "outputs": [
    {
     "data": {
      "text/plain": [
       "array([0, 0, 0, ..., 0, 3, 0], dtype=int64)"
      ]
     },
     "execution_count": 850,
     "metadata": {},
     "output_type": "execute_result"
    }
   ],
   "source": [
    "# make class predictions for the testing set\n",
    "target_pred = model.predict(features_test)\n",
    "target_pred"
   ]
  },
  {
   "cell_type": "code",
   "execution_count": 851,
   "metadata": {},
   "outputs": [
    {
     "name": "stdout",
     "output_type": "stream",
     "text": [
      "0.64822695035461\n"
     ]
    }
   ],
   "source": [
    "# calculate accuracy\n",
    "from sklearn import metrics\n",
    "print(metrics.accuracy_score(target_test, target_pred))"
   ]
  },
  {
   "cell_type": "markdown",
   "metadata": {},
   "source": [
    "uses multiclass fuction in order to get roc score"
   ]
  },
  {
   "cell_type": "code",
   "execution_count": 852,
   "metadata": {},
   "outputs": [
    {
     "data": {
      "text/plain": [
       "0.7437079278039814"
      ]
     },
     "execution_count": 852,
     "metadata": {},
     "output_type": "execute_result"
    }
   ],
   "source": [
    "multiclass_roc_auc_score(target_test, target_pred)"
   ]
  },
  {
   "cell_type": "markdown",
   "metadata": {},
   "source": [
    "**KNN**"
   ]
  },
  {
   "cell_type": "code",
   "execution_count": 853,
   "metadata": {},
   "outputs": [],
   "source": [
    "# split X and y into training and testing sets\n",
    "from sklearn.model_selection import train_test_split\n",
    "features_train, features_test, target_train, target_test = train_test_split(features, target, test_size=0.20, random_state=1)"
   ]
  },
  {
   "cell_type": "code",
   "execution_count": 854,
   "metadata": {},
   "outputs": [
    {
     "name": "stderr",
     "output_type": "stream",
     "text": [
      "C:\\Users\\paige\\Anaconda3\\lib\\site-packages\\ipykernel_launcher.py:7: DataConversionWarning: A column-vector y was passed when a 1d array was expected. Please change the shape of y to (n_samples, ), for example using ravel().\n",
      "  import sys\n"
     ]
    },
    {
     "data": {
      "text/plain": [
       "KNeighborsClassifier(algorithm='auto', leaf_size=30, metric='minkowski',\n",
       "                     metric_params=None, n_jobs=None, n_neighbors=10, p=2,\n",
       "                     weights='uniform')"
      ]
     },
     "execution_count": 854,
     "metadata": {},
     "output_type": "execute_result"
    }
   ],
   "source": [
    "from sklearn.neighbors import KNeighborsClassifier\n",
    "\n",
    "# instantiate model\n",
    "model = KNeighborsClassifier(n_neighbors=10)\n",
    "\n",
    "# fit model\n",
    "model.fit(features_train, target_train)"
   ]
  },
  {
   "cell_type": "code",
   "execution_count": 855,
   "metadata": {},
   "outputs": [
    {
     "data": {
      "text/plain": [
       "array([0, 0, 0, ..., 0, 3, 0], dtype=int64)"
      ]
     },
     "execution_count": 855,
     "metadata": {},
     "output_type": "execute_result"
    }
   ],
   "source": [
    "# make class predictions for the testing set\n",
    "target_pred = model.predict(features_test)\n",
    "target_pred"
   ]
  },
  {
   "cell_type": "code",
   "execution_count": 856,
   "metadata": {},
   "outputs": [
    {
     "name": "stdout",
     "output_type": "stream",
     "text": [
      "0.5408983451536643\n"
     ]
    }
   ],
   "source": [
    "# calculate accuracy\n",
    "from sklearn import metrics\n",
    "print(metrics.accuracy_score(target_test, target_pred))"
   ]
  },
  {
   "cell_type": "code",
   "execution_count": 857,
   "metadata": {},
   "outputs": [
    {
     "data": {
      "text/plain": [
       "0.6641507932921746"
      ]
     },
     "execution_count": 857,
     "metadata": {},
     "output_type": "execute_result"
    }
   ],
   "source": [
    "multiclass_roc_auc_score(target_test, target_pred)"
   ]
  },
  {
   "cell_type": "markdown",
   "metadata": {},
   "source": [
    "**Random forest**"
   ]
  },
  {
   "cell_type": "code",
   "execution_count": 858,
   "metadata": {},
   "outputs": [],
   "source": [
    "# split X and y into training and testing sets\n",
    "from sklearn.model_selection import train_test_split\n",
    "features_train, features_test, target_train, target_test = train_test_split(features, target, test_size=0.20, random_state=1)"
   ]
  },
  {
   "cell_type": "code",
   "execution_count": 859,
   "metadata": {},
   "outputs": [
    {
     "name": "stderr",
     "output_type": "stream",
     "text": [
      "C:\\Users\\paige\\Anaconda3\\lib\\site-packages\\sklearn\\ensemble\\forest.py:245: FutureWarning: The default value of n_estimators will change from 10 in version 0.20 to 100 in 0.22.\n",
      "  \"10 in version 0.20 to 100 in 0.22.\", FutureWarning)\n",
      "C:\\Users\\paige\\Anaconda3\\lib\\site-packages\\ipykernel_launcher.py:7: DataConversionWarning: A column-vector y was passed when a 1d array was expected. Please change the shape of y to (n_samples,), for example using ravel().\n",
      "  import sys\n"
     ]
    },
    {
     "data": {
      "text/plain": [
       "RandomForestClassifier(bootstrap=True, class_weight=None, criterion='gini',\n",
       "                       max_depth=10, max_features='auto', max_leaf_nodes=None,\n",
       "                       min_impurity_decrease=0.0, min_impurity_split=None,\n",
       "                       min_samples_leaf=1, min_samples_split=2,\n",
       "                       min_weight_fraction_leaf=0.0, n_estimators=10,\n",
       "                       n_jobs=None, oob_score=False, random_state=1, verbose=0,\n",
       "                       warm_start=False)"
      ]
     },
     "execution_count": 859,
     "metadata": {},
     "output_type": "execute_result"
    }
   ],
   "source": [
    "from sklearn.ensemble import RandomForestClassifier\n",
    "\n",
    "# instantiate model\n",
    "model = RandomForestClassifier(random_state=1, max_depth=10)\n",
    "\n",
    "# fit model\n",
    "model.fit(features_train, target_train)"
   ]
  },
  {
   "cell_type": "code",
   "execution_count": 860,
   "metadata": {},
   "outputs": [
    {
     "data": {
      "text/plain": [
       "array([3, 0, 0, ..., 0, 2, 3], dtype=int64)"
      ]
     },
     "execution_count": 860,
     "metadata": {},
     "output_type": "execute_result"
    }
   ],
   "source": [
    "# make class predictions for the testing set\n",
    "target_pred = model.predict(features_test)\n",
    "target_pred"
   ]
  },
  {
   "cell_type": "code",
   "execution_count": 861,
   "metadata": {},
   "outputs": [
    {
     "name": "stdout",
     "output_type": "stream",
     "text": [
      "0.7550827423167848\n"
     ]
    }
   ],
   "source": [
    "# calculate accuracy\n",
    "from sklearn import metrics\n",
    "print(metrics.accuracy_score(target_test, target_pred))"
   ]
  },
  {
   "cell_type": "code",
   "execution_count": 862,
   "metadata": {},
   "outputs": [
    {
     "data": {
      "text/plain": [
       "0.8193951901142134"
      ]
     },
     "execution_count": 862,
     "metadata": {},
     "output_type": "execute_result"
    }
   ],
   "source": [
    "multiclass_roc_auc_score(target_test, target_pred)"
   ]
  },
  {
   "cell_type": "code",
   "execution_count": 863,
   "metadata": {},
   "outputs": [
    {
     "name": "stdout",
     "output_type": "stream",
     "text": [
      "Index(['country', 'age', 'country-year', 'sex'], dtype='object')\n",
      "[0.18033404 0.36881475 0.29913192 0.15171929]\n"
     ]
    }
   ],
   "source": [
    "print(features.columns)\n",
    "importances = model.feature_importances_\n",
    "print(importances)"
   ]
  },
  {
   "cell_type": "code",
   "execution_count": 864,
   "metadata": {},
   "outputs": [
    {
     "data": {
      "image/png": "[encoded data removed]",
      "text/plain": [
       "<Figure size 432x288 with 1 Axes>"
      ]
     },
     "metadata": {
      "needs_background": "light"
     },
     "output_type": "display_data"
    }
   ],
   "source": [
    "indices = np.argsort(importances)[-9:]  # top 10 features\n",
    "plt.title('Feature Importances')\n",
    "plt.barh(range(len(indices)), importances[indices], color='b', align='center')\n",
    "plt.yticks(range(len(indices)), [features.columns[i] for i in indices])\n",
    "plt.xlabel('Relative Importance')\n",
    "plt.show()"
   ]
  },
  {
   "cell_type": "markdown",
   "metadata": {},
   "source": [
    "**k-fold cross validation**"
   ]
  },
  {
   "cell_type": "code",
   "execution_count": 865,
   "metadata": {},
   "outputs": [],
   "source": [
    "from sklearn.model_selection import KFold # import KFold\n",
    "from sklearn.model_selection import cross_val_score, cross_val_predict"
   ]
  },
  {
   "cell_type": "code",
   "execution_count": 866,
   "metadata": {},
   "outputs": [
    {
     "name": "stderr",
     "output_type": "stream",
     "text": [
      "C:\\Users\\paige\\Anaconda3\\lib\\site-packages\\ipykernel_launcher.py:2: DataConversionWarning: A column-vector y was passed when a 1d array was expected. Please change the shape of y to (n_samples,), for example using ravel().\n",
      "  \n"
     ]
    },
    {
     "data": {
      "text/plain": [
       "RandomForestClassifier(bootstrap=True, class_weight=None, criterion='gini',\n",
       "                       max_depth=10, max_features='auto', max_leaf_nodes=None,\n",
       "                       min_impurity_decrease=0.0, min_impurity_split=None,\n",
       "                       min_samples_leaf=1, min_samples_split=2,\n",
       "                       min_weight_fraction_leaf=0.0, n_estimators=10,\n",
       "                       n_jobs=None, oob_score=False, random_state=1, verbose=0,\n",
       "                       warm_start=False)"
      ]
     },
     "execution_count": 866,
     "metadata": {},
     "output_type": "execute_result"
    }
   ],
   "source": [
    "# Retrain model on the whole dataset\n",
    "model.fit(features, target)"
   ]
  },
  {
   "cell_type": "code",
   "execution_count": 867,
   "metadata": {},
   "outputs": [
    {
     "name": "stderr",
     "output_type": "stream",
     "text": [
      "C:\\Users\\paige\\Anaconda3\\lib\\site-packages\\sklearn\\model_selection\\_validation.py:516: DataConversionWarning: A column-vector y was passed when a 1d array was expected. Please change the shape of y to (n_samples,), for example using ravel().\n",
      "  estimator.fit(X_train, y_train, **fit_params)\n",
      "C:\\Users\\paige\\Anaconda3\\lib\\site-packages\\sklearn\\model_selection\\_validation.py:516: DataConversionWarning: A column-vector y was passed when a 1d array was expected. Please change the shape of y to (n_samples,), for example using ravel().\n",
      "  estimator.fit(X_train, y_train, **fit_params)\n",
      "C:\\Users\\paige\\Anaconda3\\lib\\site-packages\\sklearn\\model_selection\\_validation.py:516: DataConversionWarning: A column-vector y was passed when a 1d array was expected. Please change the shape of y to (n_samples,), for example using ravel().\n",
      "  estimator.fit(X_train, y_train, **fit_params)\n"
     ]
    },
    {
     "name": "stdout",
     "output_type": "stream",
     "text": [
      "Cross-validated scores: [0.5225123  0.54786228 0.4631101  0.58667676]\n"
     ]
    },
    {
     "name": "stderr",
     "output_type": "stream",
     "text": [
      "C:\\Users\\paige\\Anaconda3\\lib\\site-packages\\sklearn\\model_selection\\_validation.py:516: DataConversionWarning: A column-vector y was passed when a 1d array was expected. Please change the shape of y to (n_samples,), for example using ravel().\n",
      "  estimator.fit(X_train, y_train, **fit_params)\n"
     ]
    }
   ],
   "source": [
    "# Perform 10-fold cross validation\n",
    "kf = KFold(n_splits=4, random_state=1, shuffle=False)\n",
    "scores = cross_val_score(model, features, target, cv=kf)\n",
    "print('Cross-validated scores:', scores)\n"
   ]
  },
  {
   "cell_type": "code",
   "execution_count": 868,
   "metadata": {},
   "outputs": [
    {
     "name": "stdout",
     "output_type": "stream",
     "text": [
      "0.5300403591335632\n"
     ]
    }
   ],
   "source": [
    "print(scores.mean())"
   ]
  },
  {
   "cell_type": "code",
   "execution_count": 869,
   "metadata": {
    "scrolled": true
   },
   "outputs": [
    {
     "name": "stderr",
     "output_type": "stream",
     "text": [
      "C:\\Users\\paige\\Anaconda3\\lib\\site-packages\\sklearn\\model_selection\\_validation.py:876: DataConversionWarning: A column-vector y was passed when a 1d array was expected. Please change the shape of y to (n_samples,), for example using ravel().\n",
      "  estimator.fit(X_train, y_train, **fit_params)\n",
      "C:\\Users\\paige\\Anaconda3\\lib\\site-packages\\sklearn\\model_selection\\_validation.py:876: DataConversionWarning: A column-vector y was passed when a 1d array was expected. Please change the shape of y to (n_samples,), for example using ravel().\n",
      "  estimator.fit(X_train, y_train, **fit_params)\n",
      "C:\\Users\\paige\\Anaconda3\\lib\\site-packages\\sklearn\\model_selection\\_validation.py:876: DataConversionWarning: A column-vector y was passed when a 1d array was expected. Please change the shape of y to (n_samples,), for example using ravel().\n",
      "  estimator.fit(X_train, y_train, **fit_params)\n",
      "C:\\Users\\paige\\Anaconda3\\lib\\site-packages\\sklearn\\model_selection\\_validation.py:876: DataConversionWarning: A column-vector y was passed when a 1d array was expected. Please change the shape of y to (n_samples,), for example using ravel().\n",
      "  estimator.fit(X_train, y_train, **fit_params)\n"
     ]
    },
    {
     "data": {
      "text/plain": [
       "array([1, 1, 3, ..., 2, 0, 0], dtype=int64)"
      ]
     },
     "execution_count": 869,
     "metadata": {},
     "output_type": "execute_result"
    }
   ],
   "source": [
    "# Make cross validated predictions\n",
    "pred = cross_val_predict(model, features, target, cv=kf)\n",
    "pred"
   ]
  },
  {
   "cell_type": "markdown",
   "metadata": {},
   "source": [
    "**The highest score we could get would be using the Random Forest method**\n",
    "\n",
    "10 fold cross validation reduced our accuracy by around 20%, so it is highly decresing our performance therefore we should not use it\n",
    "\n",
    "SVM in our case does not take a lot of computation time since we do not have too much data and also has a decent performace\n",
    "\n",
    "\n",
    "\n",
    "## Navie Bayes  \n",
    "\n",
    "\n",
    "accuracy score : 0.46775580395528804\n",
    "\n",
    "\n",
    "roc score      : 0.6149125784799309\n",
    "               \n",
    "               \n",
    "## SVM           \n",
    "\n",
    "accuracy score : 0.64822695035461\n",
    "\n",
    "\n",
    "roc score      : 0.7437079278039814\n",
    "               \n",
    "               \n",
    "## KNN          \n",
    "\n",
    "accuracy score : 0.592434988179669\n",
    "\n",
    "\n",
    "roc score      : 0.6992206045205351\n",
    "               \n",
    "               \n",
    "## Random Forest \n",
    "\n",
    "accuracy score : 0.7550827423167848\n",
    "\n",
    "\n",
    "roc score      : 0.8193951901142134\n",
    "\n",
    "\n",
    "10-fold cross validation score: 0.5249345885652048\n"
   ]
  },
  {
   "cell_type": "markdown",
   "metadata": {},
   "source": [
    "## Testing"
   ]
  },
  {
   "cell_type": "code",
   "execution_count": 870,
   "metadata": {},
   "outputs": [
    {
     "data": {
      "text/html": [
       "<div>\n",
       "<style scoped>\n",
       "    .dataframe tbody tr th:only-of-type {\n",
       "        vertical-align: middle;\n",
       "    }\n",
       "\n",
       "    .dataframe tbody tr th {\n",
       "        vertical-align: top;\n",
       "    }\n",
       "\n",
       "    .dataframe thead th {\n",
       "        text-align: right;\n",
       "    }\n",
       "</style>\n",
       "<table border=\"1\" class=\"dataframe\">\n",
       "  <thead>\n",
       "    <tr style=\"text-align: right;\">\n",
       "      <th></th>\n",
       "      <th>country</th>\n",
       "      <th>year</th>\n",
       "      <th>sex</th>\n",
       "      <th>age</th>\n",
       "      <th>suicides_no</th>\n",
       "      <th>population</th>\n",
       "      <th>suicides/100k pop</th>\n",
       "      <th>country-year</th>\n",
       "      <th>gdp_for_year ($)</th>\n",
       "      <th>gdp_per_capita ($)</th>\n",
       "      <th>generation</th>\n",
       "      <th>gender_dummy</th>\n",
       "      <th>suicide_buckets</th>\n",
       "    </tr>\n",
       "  </thead>\n",
       "  <tbody>\n",
       "    <tr>\n",
       "      <td>132</td>\n",
       "      <td>Albania</td>\n",
       "      <td>2000</td>\n",
       "      <td>male</td>\n",
       "      <td>25-34 years</td>\n",
       "      <td>17</td>\n",
       "      <td>232000</td>\n",
       "      <td>7.33</td>\n",
       "      <td>Albania2000</td>\n",
       "      <td>3,632,043,908</td>\n",
       "      <td>1299</td>\n",
       "      <td>Generation X</td>\n",
       "      <td>0</td>\n",
       "      <td>su_5_15</td>\n",
       "    </tr>\n",
       "    <tr>\n",
       "      <td>133</td>\n",
       "      <td>Albania</td>\n",
       "      <td>2000</td>\n",
       "      <td>male</td>\n",
       "      <td>55-74 years</td>\n",
       "      <td>10</td>\n",
       "      <td>177400</td>\n",
       "      <td>5.64</td>\n",
       "      <td>Albania2000</td>\n",
       "      <td>3,632,043,908</td>\n",
       "      <td>1299</td>\n",
       "      <td>Silent</td>\n",
       "      <td>0</td>\n",
       "      <td>su_5_15</td>\n",
       "    </tr>\n",
       "    <tr>\n",
       "      <td>134</td>\n",
       "      <td>Albania</td>\n",
       "      <td>2000</td>\n",
       "      <td>female</td>\n",
       "      <td>75+ years</td>\n",
       "      <td>2</td>\n",
       "      <td>37800</td>\n",
       "      <td>5.29</td>\n",
       "      <td>Albania2000</td>\n",
       "      <td>3,632,043,908</td>\n",
       "      <td>1299</td>\n",
       "      <td>G.I. Generation</td>\n",
       "      <td>1</td>\n",
       "      <td>su_5_15</td>\n",
       "    </tr>\n",
       "    <tr>\n",
       "      <td>135</td>\n",
       "      <td>Albania</td>\n",
       "      <td>2000</td>\n",
       "      <td>male</td>\n",
       "      <td>75+ years</td>\n",
       "      <td>1</td>\n",
       "      <td>24900</td>\n",
       "      <td>4.02</td>\n",
       "      <td>Albania2000</td>\n",
       "      <td>3,632,043,908</td>\n",
       "      <td>1299</td>\n",
       "      <td>G.I. Generation</td>\n",
       "      <td>0</td>\n",
       "      <td>su_2_5</td>\n",
       "    </tr>\n",
       "    <tr>\n",
       "      <td>136</td>\n",
       "      <td>Albania</td>\n",
       "      <td>2000</td>\n",
       "      <td>female</td>\n",
       "      <td>15-24 years</td>\n",
       "      <td>6</td>\n",
       "      <td>263900</td>\n",
       "      <td>2.27</td>\n",
       "      <td>Albania2000</td>\n",
       "      <td>3,632,043,908</td>\n",
       "      <td>1299</td>\n",
       "      <td>Generation X</td>\n",
       "      <td>1</td>\n",
       "      <td>su_2_5</td>\n",
       "    </tr>\n",
       "    <tr>\n",
       "      <td>137</td>\n",
       "      <td>Albania</td>\n",
       "      <td>2000</td>\n",
       "      <td>male</td>\n",
       "      <td>15-24 years</td>\n",
       "      <td>5</td>\n",
       "      <td>240000</td>\n",
       "      <td>2.08</td>\n",
       "      <td>Albania2000</td>\n",
       "      <td>3,632,043,908</td>\n",
       "      <td>1299</td>\n",
       "      <td>Generation X</td>\n",
       "      <td>0</td>\n",
       "      <td>su_2_5</td>\n",
       "    </tr>\n",
       "    <tr>\n",
       "      <td>138</td>\n",
       "      <td>Albania</td>\n",
       "      <td>2000</td>\n",
       "      <td>female</td>\n",
       "      <td>35-54 years</td>\n",
       "      <td>5</td>\n",
       "      <td>332200</td>\n",
       "      <td>1.51</td>\n",
       "      <td>Albania2000</td>\n",
       "      <td>3,632,043,908</td>\n",
       "      <td>1299</td>\n",
       "      <td>Boomers</td>\n",
       "      <td>1</td>\n",
       "      <td>su_0_2</td>\n",
       "    </tr>\n",
       "    <tr>\n",
       "      <td>139</td>\n",
       "      <td>Albania</td>\n",
       "      <td>2000</td>\n",
       "      <td>female</td>\n",
       "      <td>25-34 years</td>\n",
       "      <td>3</td>\n",
       "      <td>245800</td>\n",
       "      <td>1.22</td>\n",
       "      <td>Albania2000</td>\n",
       "      <td>3,632,043,908</td>\n",
       "      <td>1299</td>\n",
       "      <td>Generation X</td>\n",
       "      <td>1</td>\n",
       "      <td>su_0_2</td>\n",
       "    </tr>\n",
       "    <tr>\n",
       "      <td>140</td>\n",
       "      <td>Albania</td>\n",
       "      <td>2000</td>\n",
       "      <td>male</td>\n",
       "      <td>35-54 years</td>\n",
       "      <td>4</td>\n",
       "      <td>374700</td>\n",
       "      <td>1.07</td>\n",
       "      <td>Albania2000</td>\n",
       "      <td>3,632,043,908</td>\n",
       "      <td>1299</td>\n",
       "      <td>Boomers</td>\n",
       "      <td>0</td>\n",
       "      <td>su_0_2</td>\n",
       "    </tr>\n",
       "    <tr>\n",
       "      <td>141</td>\n",
       "      <td>Albania</td>\n",
       "      <td>2000</td>\n",
       "      <td>male</td>\n",
       "      <td>5-14 years</td>\n",
       "      <td>1</td>\n",
       "      <td>374900</td>\n",
       "      <td>0.27</td>\n",
       "      <td>Albania2000</td>\n",
       "      <td>3,632,043,908</td>\n",
       "      <td>1299</td>\n",
       "      <td>Millenials</td>\n",
       "      <td>0</td>\n",
       "      <td>su_0_2</td>\n",
       "    </tr>\n",
       "    <tr>\n",
       "      <td>142</td>\n",
       "      <td>Albania</td>\n",
       "      <td>2000</td>\n",
       "      <td>female</td>\n",
       "      <td>5-14 years</td>\n",
       "      <td>0</td>\n",
       "      <td>324700</td>\n",
       "      <td>0.00</td>\n",
       "      <td>Albania2000</td>\n",
       "      <td>3,632,043,908</td>\n",
       "      <td>1299</td>\n",
       "      <td>Millenials</td>\n",
       "      <td>1</td>\n",
       "      <td>su_0_2</td>\n",
       "    </tr>\n",
       "    <tr>\n",
       "      <td>143</td>\n",
       "      <td>Albania</td>\n",
       "      <td>2000</td>\n",
       "      <td>female</td>\n",
       "      <td>55-74 years</td>\n",
       "      <td>0</td>\n",
       "      <td>168000</td>\n",
       "      <td>0.00</td>\n",
       "      <td>Albania2000</td>\n",
       "      <td>3,632,043,908</td>\n",
       "      <td>1299</td>\n",
       "      <td>Silent</td>\n",
       "      <td>1</td>\n",
       "      <td>su_0_2</td>\n",
       "    </tr>\n",
       "    <tr>\n",
       "      <td>144</td>\n",
       "      <td>Albania</td>\n",
       "      <td>2001</td>\n",
       "      <td>male</td>\n",
       "      <td>25-34 years</td>\n",
       "      <td>22</td>\n",
       "      <td>206484</td>\n",
       "      <td>10.65</td>\n",
       "      <td>Albania2001</td>\n",
       "      <td>4,060,758,804</td>\n",
       "      <td>1451</td>\n",
       "      <td>Generation X</td>\n",
       "      <td>0</td>\n",
       "      <td>su_5_15</td>\n",
       "    </tr>\n",
       "    <tr>\n",
       "      <td>145</td>\n",
       "      <td>Albania</td>\n",
       "      <td>2001</td>\n",
       "      <td>male</td>\n",
       "      <td>35-54 years</td>\n",
       "      <td>34</td>\n",
       "      <td>378826</td>\n",
       "      <td>8.98</td>\n",
       "      <td>Albania2001</td>\n",
       "      <td>4,060,758,804</td>\n",
       "      <td>1451</td>\n",
       "      <td>Boomers</td>\n",
       "      <td>0</td>\n",
       "      <td>su_5_15</td>\n",
       "    </tr>\n",
       "    <tr>\n",
       "      <td>146</td>\n",
       "      <td>Albania</td>\n",
       "      <td>2001</td>\n",
       "      <td>male</td>\n",
       "      <td>55-74 years</td>\n",
       "      <td>11</td>\n",
       "      <td>196670</td>\n",
       "      <td>5.59</td>\n",
       "      <td>Albania2001</td>\n",
       "      <td>4,060,758,804</td>\n",
       "      <td>1451</td>\n",
       "      <td>Silent</td>\n",
       "      <td>0</td>\n",
       "      <td>su_5_15</td>\n",
       "    </tr>\n",
       "    <tr>\n",
       "      <td>147</td>\n",
       "      <td>Albania</td>\n",
       "      <td>2001</td>\n",
       "      <td>female</td>\n",
       "      <td>75+ years</td>\n",
       "      <td>2</td>\n",
       "      <td>47254</td>\n",
       "      <td>4.23</td>\n",
       "      <td>Albania2001</td>\n",
       "      <td>4,060,758,804</td>\n",
       "      <td>1451</td>\n",
       "      <td>Silent</td>\n",
       "      <td>1</td>\n",
       "      <td>su_2_5</td>\n",
       "    </tr>\n",
       "    <tr>\n",
       "      <td>148</td>\n",
       "      <td>Albania</td>\n",
       "      <td>2001</td>\n",
       "      <td>male</td>\n",
       "      <td>15-24 years</td>\n",
       "      <td>10</td>\n",
       "      <td>256039</td>\n",
       "      <td>3.91</td>\n",
       "      <td>Albania2001</td>\n",
       "      <td>4,060,758,804</td>\n",
       "      <td>1451</td>\n",
       "      <td>Millenials</td>\n",
       "      <td>0</td>\n",
       "      <td>su_2_5</td>\n",
       "    </tr>\n",
       "    <tr>\n",
       "      <td>149</td>\n",
       "      <td>Albania</td>\n",
       "      <td>2001</td>\n",
       "      <td>female</td>\n",
       "      <td>15-24 years</td>\n",
       "      <td>9</td>\n",
       "      <td>271359</td>\n",
       "      <td>3.32</td>\n",
       "      <td>Albania2001</td>\n",
       "      <td>4,060,758,804</td>\n",
       "      <td>1451</td>\n",
       "      <td>Millenials</td>\n",
       "      <td>1</td>\n",
       "      <td>su_2_5</td>\n",
       "    </tr>\n",
       "    <tr>\n",
       "      <td>150</td>\n",
       "      <td>Albania</td>\n",
       "      <td>2001</td>\n",
       "      <td>female</td>\n",
       "      <td>35-54 years</td>\n",
       "      <td>12</td>\n",
       "      <td>370191</td>\n",
       "      <td>3.24</td>\n",
       "      <td>Albania2001</td>\n",
       "      <td>4,060,758,804</td>\n",
       "      <td>1451</td>\n",
       "      <td>Boomers</td>\n",
       "      <td>1</td>\n",
       "      <td>su_2_5</td>\n",
       "    </tr>\n",
       "    <tr>\n",
       "      <td>151</td>\n",
       "      <td>Albania</td>\n",
       "      <td>2001</td>\n",
       "      <td>male</td>\n",
       "      <td>75+ years</td>\n",
       "      <td>1</td>\n",
       "      <td>31044</td>\n",
       "      <td>3.22</td>\n",
       "      <td>Albania2001</td>\n",
       "      <td>4,060,758,804</td>\n",
       "      <td>1451</td>\n",
       "      <td>Silent</td>\n",
       "      <td>0</td>\n",
       "      <td>su_2_5</td>\n",
       "    </tr>\n",
       "  </tbody>\n",
       "</table>\n",
       "</div>"
      ],
      "text/plain": [
       "     country  year     sex          age  suicides_no  population  \\\n",
       "132  Albania  2000    male  25-34 years           17      232000   \n",
       "133  Albania  2000    male  55-74 years           10      177400   \n",
       "134  Albania  2000  female    75+ years            2       37800   \n",
       "135  Albania  2000    male    75+ years            1       24900   \n",
       "136  Albania  2000  female  15-24 years            6      263900   \n",
       "137  Albania  2000    male  15-24 years            5      240000   \n",
       "138  Albania  2000  female  35-54 years            5      332200   \n",
       "139  Albania  2000  female  25-34 years            3      245800   \n",
       "140  Albania  2000    male  35-54 years            4      374700   \n",
       "141  Albania  2000    male   5-14 years            1      374900   \n",
       "142  Albania  2000  female   5-14 years            0      324700   \n",
       "143  Albania  2000  female  55-74 years            0      168000   \n",
       "144  Albania  2001    male  25-34 years           22      206484   \n",
       "145  Albania  2001    male  35-54 years           34      378826   \n",
       "146  Albania  2001    male  55-74 years           11      196670   \n",
       "147  Albania  2001  female    75+ years            2       47254   \n",
       "148  Albania  2001    male  15-24 years           10      256039   \n",
       "149  Albania  2001  female  15-24 years            9      271359   \n",
       "150  Albania  2001  female  35-54 years           12      370191   \n",
       "151  Albania  2001    male    75+ years            1       31044   \n",
       "\n",
       "     suicides/100k pop country-year  gdp_for_year ($)   gdp_per_capita ($)  \\\n",
       "132               7.33  Albania2000      3,632,043,908                1299   \n",
       "133               5.64  Albania2000      3,632,043,908                1299   \n",
       "134               5.29  Albania2000      3,632,043,908                1299   \n",
       "135               4.02  Albania2000      3,632,043,908                1299   \n",
       "136               2.27  Albania2000      3,632,043,908                1299   \n",
       "137               2.08  Albania2000      3,632,043,908                1299   \n",
       "138               1.51  Albania2000      3,632,043,908                1299   \n",
       "139               1.22  Albania2000      3,632,043,908                1299   \n",
       "140               1.07  Albania2000      3,632,043,908                1299   \n",
       "141               0.27  Albania2000      3,632,043,908                1299   \n",
       "142               0.00  Albania2000      3,632,043,908                1299   \n",
       "143               0.00  Albania2000      3,632,043,908                1299   \n",
       "144              10.65  Albania2001      4,060,758,804                1451   \n",
       "145               8.98  Albania2001      4,060,758,804                1451   \n",
       "146               5.59  Albania2001      4,060,758,804                1451   \n",
       "147               4.23  Albania2001      4,060,758,804                1451   \n",
       "148               3.91  Albania2001      4,060,758,804                1451   \n",
       "149               3.32  Albania2001      4,060,758,804                1451   \n",
       "150               3.24  Albania2001      4,060,758,804                1451   \n",
       "151               3.22  Albania2001      4,060,758,804                1451   \n",
       "\n",
       "          generation  gender_dummy suicide_buckets  \n",
       "132     Generation X             0         su_5_15  \n",
       "133           Silent             0         su_5_15  \n",
       "134  G.I. Generation             1         su_5_15  \n",
       "135  G.I. Generation             0          su_2_5  \n",
       "136     Generation X             1          su_2_5  \n",
       "137     Generation X             0          su_2_5  \n",
       "138          Boomers             1          su_0_2  \n",
       "139     Generation X             1          su_0_2  \n",
       "140          Boomers             0          su_0_2  \n",
       "141       Millenials             0          su_0_2  \n",
       "142       Millenials             1          su_0_2  \n",
       "143           Silent             1          su_0_2  \n",
       "144     Generation X             0         su_5_15  \n",
       "145          Boomers             0         su_5_15  \n",
       "146           Silent             0         su_5_15  \n",
       "147           Silent             1          su_2_5  \n",
       "148       Millenials             0          su_2_5  \n",
       "149       Millenials             1          su_2_5  \n",
       "150          Boomers             1          su_2_5  \n",
       "151           Silent             0          su_2_5  "
      ]
     },
     "execution_count": 870,
     "metadata": {},
     "output_type": "execute_result"
    }
   ],
   "source": [
    "data.head(20)"
   ]
  },
  {
   "cell_type": "code",
   "execution_count": 871,
   "metadata": {
    "scrolled": false
   },
   "outputs": [
    {
     "data": {
      "text/html": [
       "<div>\n",
       "<style scoped>\n",
       "    .dataframe tbody tr th:only-of-type {\n",
       "        vertical-align: middle;\n",
       "    }\n",
       "\n",
       "    .dataframe tbody tr th {\n",
       "        vertical-align: top;\n",
       "    }\n",
       "\n",
       "    .dataframe thead th {\n",
       "        text-align: right;\n",
       "    }\n",
       "</style>\n",
       "<table border=\"1\" class=\"dataframe\">\n",
       "  <thead>\n",
       "    <tr style=\"text-align: right;\">\n",
       "      <th></th>\n",
       "      <th>country</th>\n",
       "      <th>year</th>\n",
       "      <th>sex</th>\n",
       "      <th>age</th>\n",
       "      <th>suicides_no</th>\n",
       "      <th>population</th>\n",
       "      <th>suicides/100k pop</th>\n",
       "      <th>country-year</th>\n",
       "      <th>gdp_for_year ($)</th>\n",
       "      <th>gdp_per_capita ($)</th>\n",
       "      <th>generation</th>\n",
       "      <th>gender_dummy</th>\n",
       "      <th>suicide_buckets</th>\n",
       "    </tr>\n",
       "  </thead>\n",
       "  <tbody>\n",
       "    <tr>\n",
       "      <td>132</td>\n",
       "      <td>Albania</td>\n",
       "      <td>2000</td>\n",
       "      <td>male</td>\n",
       "      <td>25-34 years</td>\n",
       "      <td>17</td>\n",
       "      <td>232000</td>\n",
       "      <td>7.33</td>\n",
       "      <td>Albania2000</td>\n",
       "      <td>3,632,043,908</td>\n",
       "      <td>1299</td>\n",
       "      <td>Generation X</td>\n",
       "      <td>0</td>\n",
       "      <td>su_5_15</td>\n",
       "    </tr>\n",
       "    <tr>\n",
       "      <td>133</td>\n",
       "      <td>Albania</td>\n",
       "      <td>2000</td>\n",
       "      <td>male</td>\n",
       "      <td>55-74 years</td>\n",
       "      <td>10</td>\n",
       "      <td>177400</td>\n",
       "      <td>5.64</td>\n",
       "      <td>Albania2000</td>\n",
       "      <td>3,632,043,908</td>\n",
       "      <td>1299</td>\n",
       "      <td>Silent</td>\n",
       "      <td>0</td>\n",
       "      <td>su_5_15</td>\n",
       "    </tr>\n",
       "    <tr>\n",
       "      <td>134</td>\n",
       "      <td>Albania</td>\n",
       "      <td>2000</td>\n",
       "      <td>female</td>\n",
       "      <td>75+ years</td>\n",
       "      <td>2</td>\n",
       "      <td>37800</td>\n",
       "      <td>5.29</td>\n",
       "      <td>Albania2000</td>\n",
       "      <td>3,632,043,908</td>\n",
       "      <td>1299</td>\n",
       "      <td>G.I. Generation</td>\n",
       "      <td>1</td>\n",
       "      <td>su_5_15</td>\n",
       "    </tr>\n",
       "    <tr>\n",
       "      <td>135</td>\n",
       "      <td>Albania</td>\n",
       "      <td>2000</td>\n",
       "      <td>male</td>\n",
       "      <td>75+ years</td>\n",
       "      <td>1</td>\n",
       "      <td>24900</td>\n",
       "      <td>4.02</td>\n",
       "      <td>Albania2000</td>\n",
       "      <td>3,632,043,908</td>\n",
       "      <td>1299</td>\n",
       "      <td>G.I. Generation</td>\n",
       "      <td>0</td>\n",
       "      <td>su_2_5</td>\n",
       "    </tr>\n",
       "    <tr>\n",
       "      <td>136</td>\n",
       "      <td>Albania</td>\n",
       "      <td>2000</td>\n",
       "      <td>female</td>\n",
       "      <td>15-24 years</td>\n",
       "      <td>6</td>\n",
       "      <td>263900</td>\n",
       "      <td>2.27</td>\n",
       "      <td>Albania2000</td>\n",
       "      <td>3,632,043,908</td>\n",
       "      <td>1299</td>\n",
       "      <td>Generation X</td>\n",
       "      <td>1</td>\n",
       "      <td>su_2_5</td>\n",
       "    </tr>\n",
       "    <tr>\n",
       "      <td>...</td>\n",
       "      <td>...</td>\n",
       "      <td>...</td>\n",
       "      <td>...</td>\n",
       "      <td>...</td>\n",
       "      <td>...</td>\n",
       "      <td>...</td>\n",
       "      <td>...</td>\n",
       "      <td>...</td>\n",
       "      <td>...</td>\n",
       "      <td>...</td>\n",
       "      <td>...</td>\n",
       "      <td>...</td>\n",
       "      <td>...</td>\n",
       "    </tr>\n",
       "    <tr>\n",
       "      <td>262</td>\n",
       "      <td>Albania</td>\n",
       "      <td>2010</td>\n",
       "      <td>female</td>\n",
       "      <td>5-14 years</td>\n",
       "      <td>2</td>\n",
       "      <td>223969</td>\n",
       "      <td>0.89</td>\n",
       "      <td>Albania2010</td>\n",
       "      <td>11,926,953,259</td>\n",
       "      <td>4359</td>\n",
       "      <td>Generation Z</td>\n",
       "      <td>1</td>\n",
       "      <td>su_0_2</td>\n",
       "    </tr>\n",
       "    <tr>\n",
       "      <td>263</td>\n",
       "      <td>Albania</td>\n",
       "      <td>2010</td>\n",
       "      <td>male</td>\n",
       "      <td>5-14 years</td>\n",
       "      <td>0</td>\n",
       "      <td>240939</td>\n",
       "      <td>0.00</td>\n",
       "      <td>Albania2010</td>\n",
       "      <td>11,926,953,259</td>\n",
       "      <td>4359</td>\n",
       "      <td>Generation Z</td>\n",
       "      <td>0</td>\n",
       "      <td>su_0_2</td>\n",
       "    </tr>\n",
       "    <tr>\n",
       "      <td>420</td>\n",
       "      <td>Antigua and Barbuda</td>\n",
       "      <td>2000</td>\n",
       "      <td>male</td>\n",
       "      <td>55-74 years</td>\n",
       "      <td>1</td>\n",
       "      <td>3333</td>\n",
       "      <td>30.00</td>\n",
       "      <td>Antigua and Barbuda2000</td>\n",
       "      <td>830,158,778</td>\n",
       "      <td>11021</td>\n",
       "      <td>Silent</td>\n",
       "      <td>0</td>\n",
       "      <td>su_15_200</td>\n",
       "    </tr>\n",
       "    <tr>\n",
       "      <td>421</td>\n",
       "      <td>Antigua and Barbuda</td>\n",
       "      <td>2000</td>\n",
       "      <td>male</td>\n",
       "      <td>35-54 years</td>\n",
       "      <td>1</td>\n",
       "      <td>10033</td>\n",
       "      <td>9.97</td>\n",
       "      <td>Antigua and Barbuda2000</td>\n",
       "      <td>830,158,778</td>\n",
       "      <td>11021</td>\n",
       "      <td>Boomers</td>\n",
       "      <td>0</td>\n",
       "      <td>su_5_15</td>\n",
       "    </tr>\n",
       "    <tr>\n",
       "      <td>422</td>\n",
       "      <td>Antigua and Barbuda</td>\n",
       "      <td>2000</td>\n",
       "      <td>female</td>\n",
       "      <td>15-24 years</td>\n",
       "      <td>0</td>\n",
       "      <td>6616</td>\n",
       "      <td>0.00</td>\n",
       "      <td>Antigua and Barbuda2000</td>\n",
       "      <td>830,158,778</td>\n",
       "      <td>11021</td>\n",
       "      <td>Generation X</td>\n",
       "      <td>1</td>\n",
       "      <td>su_0_2</td>\n",
       "    </tr>\n",
       "  </tbody>\n",
       "</table>\n",
       "<p>135 rows × 13 columns</p>\n",
       "</div>"
      ],
      "text/plain": [
       "                 country  year     sex          age  suicides_no  population  \\\n",
       "132              Albania  2000    male  25-34 years           17      232000   \n",
       "133              Albania  2000    male  55-74 years           10      177400   \n",
       "134              Albania  2000  female    75+ years            2       37800   \n",
       "135              Albania  2000    male    75+ years            1       24900   \n",
       "136              Albania  2000  female  15-24 years            6      263900   \n",
       "..                   ...   ...     ...          ...          ...         ...   \n",
       "262              Albania  2010  female   5-14 years            2      223969   \n",
       "263              Albania  2010    male   5-14 years            0      240939   \n",
       "420  Antigua and Barbuda  2000    male  55-74 years            1        3333   \n",
       "421  Antigua and Barbuda  2000    male  35-54 years            1       10033   \n",
       "422  Antigua and Barbuda  2000  female  15-24 years            0        6616   \n",
       "\n",
       "     suicides/100k pop             country-year  gdp_for_year ($)   \\\n",
       "132               7.33              Albania2000      3,632,043,908   \n",
       "133               5.64              Albania2000      3,632,043,908   \n",
       "134               5.29              Albania2000      3,632,043,908   \n",
       "135               4.02              Albania2000      3,632,043,908   \n",
       "136               2.27              Albania2000      3,632,043,908   \n",
       "..                 ...                      ...                ...   \n",
       "262               0.89              Albania2010     11,926,953,259   \n",
       "263               0.00              Albania2010     11,926,953,259   \n",
       "420              30.00  Antigua and Barbuda2000        830,158,778   \n",
       "421               9.97  Antigua and Barbuda2000        830,158,778   \n",
       "422               0.00  Antigua and Barbuda2000        830,158,778   \n",
       "\n",
       "     gdp_per_capita ($)       generation  gender_dummy suicide_buckets  \n",
       "132                1299     Generation X             0         su_5_15  \n",
       "133                1299           Silent             0         su_5_15  \n",
       "134                1299  G.I. Generation             1         su_5_15  \n",
       "135                1299  G.I. Generation             0          su_2_5  \n",
       "136                1299     Generation X             1          su_2_5  \n",
       "..                  ...              ...           ...             ...  \n",
       "262                4359     Generation Z             1          su_0_2  \n",
       "263                4359     Generation Z             0          su_0_2  \n",
       "420               11021           Silent             0       su_15_200  \n",
       "421               11021          Boomers             0         su_5_15  \n",
       "422               11021     Generation X             1          su_0_2  \n",
       "\n",
       "[135 rows x 13 columns]"
      ]
     },
     "execution_count": 871,
     "metadata": {},
     "output_type": "execute_result"
    }
   ],
   "source": [
    "data.head(135)"
   ]
  },
  {
   "cell_type": "markdown",
   "metadata": {},
   "source": [
    "**Make predictions based on known inputs:**\n",
    "\n",
    "* Predictors: \n",
    "    * Country: Albania\n",
    "    * Sex: male\n",
    "    * Age: 25-34 years\n",
    "    * Country Year:  Albania2000\n",
    "* Response:\n",
    "    * Suicide/100k pop: su_5_15"
   ]
  },
  {
   "cell_type": "markdown",
   "metadata": {},
   "source": [
    "**After transformation of LabelEncoder()**\n",
    "the above inputs would be equivalent to the following inputs:\n",
    "    \n",
    "* Predictors: \n",
    "    * Country: 0\n",
    "    * Age: 2\n",
    "    * Country Year:  0\n",
    "    * Sex: 0\n",
    "* Response:\n",
    "    * Suicide/100k pop: 2"
   ]
  },
  {
   "cell_type": "markdown",
   "metadata": {},
   "source": [
    "**Random Forest**"
   ]
  },
  {
   "cell_type": "code",
   "execution_count": 872,
   "metadata": {},
   "outputs": [
    {
     "name": "stderr",
     "output_type": "stream",
     "text": [
      "C:\\Users\\paige\\Anaconda3\\lib\\site-packages\\sklearn\\ensemble\\forest.py:245: FutureWarning: The default value of n_estimators will change from 10 in version 0.20 to 100 in 0.22.\n",
      "  \"10 in version 0.20 to 100 in 0.22.\", FutureWarning)\n",
      "C:\\Users\\paige\\Anaconda3\\lib\\site-packages\\ipykernel_launcher.py:5: DataConversionWarning: A column-vector y was passed when a 1d array was expected. Please change the shape of y to (n_samples,), for example using ravel().\n",
      "  \"\"\"\n"
     ]
    },
    {
     "data": {
      "text/plain": [
       "RandomForestClassifier(bootstrap=True, class_weight=None, criterion='gini',\n",
       "                       max_depth=10, max_features='auto', max_leaf_nodes=None,\n",
       "                       min_impurity_decrease=0.0, min_impurity_split=None,\n",
       "                       min_samples_leaf=1, min_samples_split=2,\n",
       "                       min_weight_fraction_leaf=0.0, n_estimators=10,\n",
       "                       n_jobs=None, oob_score=False, random_state=1, verbose=0,\n",
       "                       warm_start=False)"
      ]
     },
     "execution_count": 872,
     "metadata": {},
     "output_type": "execute_result"
    }
   ],
   "source": [
    "# instantiate model\n",
    "model = RandomForestClassifier(random_state=1, max_depth=10)\n",
    "\n",
    "# fit model\n",
    "model.fit(features, target)"
   ]
  },
  {
   "cell_type": "code",
   "execution_count": 873,
   "metadata": {},
   "outputs": [
    {
     "name": "stdout",
     "output_type": "stream",
     "text": [
      "Predicted ouctome based on known data:  [2]\n",
      "Actual ouctome based on known data: [0]\n",
      "Predicted ouctome based on known data:  [0]\n",
      "Actual ouctome based on known data: [0]\n",
      "Predicted ouctome based on known data:  [0]\n",
      "Actual ouctome based on known data: [0]\n",
      "Predicted ouctome based on known data:  [0]\n",
      "Actual ouctome based on known data: [1]\n",
      "Predicted ouctome based on known data:  [0]\n",
      "Actual ouctome based on known data: [1]\n",
      "Predicted ouctome based on known data:  [0]\n",
      "Actual ouctome based on known data: [1]\n",
      "Predicted ouctome based on known data:  [3]\n",
      "Actual ouctome based on known data: [2]\n",
      "Predicted ouctome based on known data:  [2]\n",
      "Actual ouctome based on known data: [2]\n",
      "Predicted ouctome based on known data:  [0]\n",
      "Actual ouctome based on known data: [3]\n",
      "Predicted ouctome based on known data:  [0]\n",
      "Actual ouctome based on known data: [0]\n",
      "Predicted ouctome based on known data:  [0]\n",
      "Actual ouctome based on known data: [2]\n"
     ]
    }
   ],
   "source": [
    "inputs = np.array([[0, 0, 0, 0]])\n",
    "outcome = model.predict(inputs)\n",
    "print(\"Predicted ouctome based on known data: \", outcome)\n",
    "print(\"Actual ouctome based on known data: [0]\")\n",
    "inputs = np.array([[0, 1, 0, 0]])\n",
    "outcome = model.predict(inputs)\n",
    "print(\"Predicted ouctome based on known data: \", outcome)\n",
    "print(\"Actual ouctome based on known data: [0]\")\n",
    "inputs = np.array([[0, 2, 0, 1]])\n",
    "outcome = model.predict(inputs)\n",
    "print(\"Predicted ouctome based on known data: \", outcome)\n",
    "print(\"Actual ouctome based on known data: [0]\")\n",
    "inputs = np.array([[0, 2, 0, 0]])\n",
    "outcome = model.predict(inputs)\n",
    "print(\"Predicted ouctome based on known data: \", outcome)\n",
    "print(\"Actual ouctome based on known data: [1]\")\n",
    "inputs = np.array([[0, 3, 0, 1]])\n",
    "outcome = model.predict(inputs)\n",
    "print(\"Predicted ouctome based on known data: \", outcome)\n",
    "print(\"Actual ouctome based on known data: [1]\")\n",
    "inputs = np.array([[0, 3, 0, 0]])\n",
    "outcome = model.predict(inputs)\n",
    "print(\"Predicted ouctome based on known data: \", outcome)\n",
    "print(\"Actual ouctome based on known data: [1]\")\n",
    "inputs = np.array([[0, 4, 0, 1]])\n",
    "outcome = model.predict(inputs)\n",
    "print(\"Predicted ouctome based on known data: \", outcome)\n",
    "print(\"Actual ouctome based on known data: [2]\")\n",
    "inputs = np.array([[0, 0, 0, 1]])\n",
    "outcome = model.predict(inputs)\n",
    "print(\"Predicted ouctome based on known data: \", outcome)\n",
    "print(\"Actual ouctome based on known data: [2]\")\n",
    "inputs = np.array([[1, 1, 1, 0]])\n",
    "outcome = model.predict(inputs)\n",
    "print(\"Predicted ouctome based on known data: \", outcome)\n",
    "print(\"Actual ouctome based on known data: [3]\")\n",
    "inputs = np.array([[1, 4, 1, 0]])\n",
    "outcome = model.predict(inputs)\n",
    "print(\"Predicted ouctome based on known data: \", outcome)\n",
    "print(\"Actual ouctome based on known data: [0]\")\n",
    "inputs = np.array([[1, 3, 1, 1]])\n",
    "outcome = model.predict(inputs)\n",
    "print(\"Predicted ouctome based on known data: \", outcome)\n",
    "print(\"Actual ouctome based on known data: [2]\")"
   ]
  },
  {
   "cell_type": "code",
   "execution_count": 874,
   "metadata": {},
   "outputs": [
    {
     "name": "stdout",
     "output_type": "stream",
     "text": [
      "Predicted ouctome based on known data:  [0]\n",
      "Actual ouctome based on known data: [0]\n"
     ]
    }
   ],
   "source": [
    "inputs = np.array([[0, 1, 0, 0]])\n",
    "outcome = model.predict(inputs)\n",
    "print(\"Predicted ouctome based on known data: \", outcome)\n",
    "print(\"Actual ouctome based on known data: [0]\")"
   ]
  },
  {
   "cell_type": "code",
   "execution_count": 875,
   "metadata": {},
   "outputs": [
    {
     "name": "stdout",
     "output_type": "stream",
     "text": [
      "Predicted ouctome based on known data:  [0]\n",
      "Actual ouctome based on known data: [0]\n"
     ]
    }
   ],
   "source": [
    "inputs = np.array([[0, 2, 0, 1]])\n",
    "outcome = model.predict(inputs)\n",
    "print(\"Predicted ouctome based on known data: \", outcome)\n",
    "print(\"Actual ouctome based on known data: [0]\")"
   ]
  },
  {
   "cell_type": "code",
   "execution_count": 876,
   "metadata": {},
   "outputs": [
    {
     "name": "stdout",
     "output_type": "stream",
     "text": [
      "Predicted ouctome based on known data:  [0]\n",
      "Actual ouctome based on known data: [1]\n"
     ]
    }
   ],
   "source": [
    "inputs = np.array([[0, 2, 0, 0]])\n",
    "outcome = model.predict(inputs)\n",
    "print(\"Predicted ouctome based on known data: \", outcome)\n",
    "print(\"Actual ouctome based on known data: [1]\")"
   ]
  },
  {
   "cell_type": "code",
   "execution_count": 877,
   "metadata": {},
   "outputs": [
    {
     "name": "stdout",
     "output_type": "stream",
     "text": [
      "Predicted ouctome based on known data:  [0]\n",
      "Actual ouctome based on known data: [1]\n"
     ]
    }
   ],
   "source": [
    "inputs = np.array([[0, 3, 0, 1]])\n",
    "outcome = model.predict(inputs)\n",
    "print(\"Predicted ouctome based on known data: \", outcome)\n",
    "print(\"Actual ouctome based on known data: [1]\")"
   ]
  },
  {
   "cell_type": "code",
   "execution_count": 878,
   "metadata": {},
   "outputs": [
    {
     "name": "stdout",
     "output_type": "stream",
     "text": [
      "Predicted ouctome based on known data:  [0]\n",
      "Actual ouctome based on known data: [1]\n"
     ]
    }
   ],
   "source": [
    "inputs = np.array([[0, 3, 0, 0]])\n",
    "outcome = model.predict(inputs)\n",
    "print(\"Predicted ouctome based on known data: \", outcome)\n",
    "print(\"Actual ouctome based on known data: [1]\")"
   ]
  },
  {
   "cell_type": "code",
   "execution_count": 879,
   "metadata": {},
   "outputs": [
    {
     "name": "stdout",
     "output_type": "stream",
     "text": [
      "Predicted ouctome based on known data:  [3]\n",
      "Actual ouctome based on known data: [2]\n"
     ]
    }
   ],
   "source": [
    "inputs = np.array([[0, 4, 0, 1]])\n",
    "outcome = model.predict(inputs)\n",
    "print(\"Predicted ouctome based on known data: \", outcome)\n",
    "print(\"Actual ouctome based on known data: [2]\")"
   ]
  },
  {
   "cell_type": "code",
   "execution_count": 880,
   "metadata": {},
   "outputs": [
    {
     "name": "stdout",
     "output_type": "stream",
     "text": [
      "Predicted ouctome based on known data:  [2]\n",
      "Actual ouctome based on known data: [2]\n"
     ]
    }
   ],
   "source": [
    "inputs = np.array([[0, 0, 0, 1]])\n",
    "outcome = model.predict(inputs)\n",
    "print(\"Predicted ouctome based on known data: \", outcome)\n",
    "print(\"Actual ouctome based on known data: [2]\")"
   ]
  },
  {
   "cell_type": "code",
   "execution_count": 881,
   "metadata": {},
   "outputs": [
    {
     "name": "stdout",
     "output_type": "stream",
     "text": [
      "Predicted ouctome based on known data:  [0]\n",
      "Actual ouctome based on known data: [3]\n"
     ]
    }
   ],
   "source": [
    "inputs = np.array([[1, 1, 1, 0]])\n",
    "outcome = model.predict(inputs)\n",
    "print(\"Predicted ouctome based on known data: \", outcome)\n",
    "print(\"Actual ouctome based on known data: [3]\")"
   ]
  },
  {
   "cell_type": "code",
   "execution_count": 882,
   "metadata": {},
   "outputs": [
    {
     "name": "stdout",
     "output_type": "stream",
     "text": [
      "Predicted ouctome based on known data:  [0]\n",
      "Actual ouctome based on known data: [0]\n"
     ]
    }
   ],
   "source": [
    "inputs = np.array([[1, 4, 1, 0]])\n",
    "outcome = model.predict(inputs)\n",
    "print(\"Predicted ouctome based on known data: \", outcome)\n",
    "print(\"Actual ouctome based on known data: [0]\")"
   ]
  },
  {
   "cell_type": "code",
   "execution_count": 883,
   "metadata": {},
   "outputs": [
    {
     "name": "stdout",
     "output_type": "stream",
     "text": [
      "Predicted ouctome based on known data:  [0]\n",
      "Actual ouctome based on known data: [2]\n"
     ]
    }
   ],
   "source": [
    "inputs = np.array([[1, 3, 1, 1]])\n",
    "outcome = model.predict(inputs)\n",
    "print(\"Predicted ouctome based on known data: \", outcome)\n",
    "print(\"Actual ouctome based on known data: [2]\")"
   ]
  },
  {
   "cell_type": "code",
   "execution_count": 884,
   "metadata": {},
   "outputs": [
    {
     "name": "stdout",
     "output_type": "stream",
     "text": [
      "Predicted ouctome based on known data:  [3]\n",
      "Actual ouctome based on known data: [2]\n"
     ]
    }
   ],
   "source": [
    "inputs = np.array([[0, 4, 0, 1]])\n",
    "outcome = model.predict(inputs)\n",
    "print(\"Predicted ouctome based on known data: \", outcome)\n",
    "print(\"Actual ouctome based on known data: [2]\")"
   ]
  },
  {
   "cell_type": "code",
   "execution_count": 885,
   "metadata": {},
   "outputs": [],
   "source": [
    "y = [2,0,0,0,0,0,3,2,0,0,0]"
   ]
  },
  {
   "cell_type": "code",
   "execution_count": 886,
   "metadata": {},
   "outputs": [],
   "source": [
    "x = [0,0,0,1,1,1,2,2,3,0,2]\n"
   ]
  },
  {
   "cell_type": "code",
   "execution_count": 887,
   "metadata": {},
   "outputs": [
    {
     "data": {
      "image/png": "[encoded data removed]",
      "text/plain": [
       "<Figure size 432x288 with 1 Axes>"
      ]
     },
     "metadata": {
      "needs_background": "light"
     },
     "output_type": "display_data"
    }
   ],
   "source": [
    "import matplotlib\n",
    "import matplotlib.pyplot as plt\n",
    "import numpy as np\n",
    "\n",
    "\n",
    "labels = ['1', '2', '3', '4', '5', '6', '7', '8', '9', '10', '11']\n",
    "men_means = [2,0,0,0,0,0,3,2,0,0,0]\n",
    "women_means = [0,0,0,1,1,1,2,2,3,0,2]\n",
    "\n",
    "x = np.arange(len(labels))  # the label locations\n",
    "width = 0.35  # the width of the bars\n",
    "\n",
    "fig, ax = plt.subplots()\n",
    "rects1 = ax.bar(x - width/2, men_means, width, label='Predicted')\n",
    "rects2 = ax.bar(x + width/2, women_means, width, label='Actual')\n",
    "\n",
    "# Add some text for labels, title and custom x-axis tick labels, etc.\n",
    "ax.set_ylabel('Outcomes')\n",
    "ax.set_title('Predicted outcome VS Actual outocme')\n",
    "ax.set_xticks(x)\n",
    "ax.set_xticklabels(labels)\n",
    "ax.legend()\n",
    "\n",
    "\n",
    "def autolabel(rects):\n",
    "    \"\"\"Attach a text label above each bar in *rects*, displaying its height.\"\"\"\n",
    "    for rect in rects:\n",
    "        height = rect.get_height()\n",
    "        ax.annotate('{}'.format(height),\n",
    "                    xy=(rect.get_x() + rect.get_width() / 2, height),\n",
    "                    xytext=(0, 3),  # 3 points vertical offset\n",
    "                    textcoords=\"offset points\",\n",
    "                    ha='center', va='bottom')\n",
    "\n",
    "\n",
    "autolabel(rects1)\n",
    "autolabel(rects2)\n",
    "\n",
    "fig.tight_layout()\n",
    "\n",
    "plt.show()"
   ]
  },
  {
   "cell_type": "code",
   "execution_count": null,
   "metadata": {},
   "outputs": [],
   "source": []
  }
 ],
 "metadata": {
  "kernelspec": {
   "display_name": "Python 3",
   "language": "python",
   "name": "python3"
  },
  "language_info": {
   "codemirror_mode": {
    "name": "ipython",
    "version": 3
   },
   "file_extension": ".py",
   "mimetype": "text/x-python",
   "name": "python",
   "nbconvert_exporter": "python",
   "pygments_lexer": "ipython3",
   "version": "3.7.4"
  }
 },
 "nbformat": 4,
 "nbformat_minor": 2
}
